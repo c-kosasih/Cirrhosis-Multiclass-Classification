{
  "cells": [
    {
      "cell_type": "markdown",
      "metadata": {
        "id": "fqJKr78vgQoi"
      },
      "source": [
        "Made by : Clarissa B. Kosasih   \n",
        "\n",
        "# A. EDA"
      ]
    },
    {
      "cell_type": "markdown",
      "metadata": {
        "id": "_MVr8JBJwnrJ"
      },
      "source": [
        "## Data Preprocessing"
      ]
    },
    {
      "cell_type": "code",
      "execution_count": null,
      "metadata": {
        "colab": {
          "base_uri": "https://localhost:8080/"
        },
        "id": "5yjK-gONx-A8",
        "outputId": "ed031481-dd8d-4d0f-aa4e-fba508410f25"
      },
      "outputs": [
        {
          "name": "stdout",
          "output_type": "stream",
          "text": [
            "Found existing installation: scikit-learn 1.3.1\n",
            "Uninstalling scikit-learn-1.3.1:\n",
            "  Successfully uninstalled scikit-learn-1.3.1\n",
            "Collecting scikit-learn==1.3.1\n",
            "  Using cached scikit_learn-1.3.1-cp310-cp310-manylinux_2_17_x86_64.manylinux2014_x86_64.whl.metadata (11 kB)\n",
            "Requirement already satisfied: numpy<2.0,>=1.17.3 in /usr/local/lib/python3.10/dist-packages (from scikit-learn==1.3.1) (1.26.4)\n",
            "Requirement already satisfied: scipy>=1.5.0 in /usr/local/lib/python3.10/dist-packages (from scikit-learn==1.3.1) (1.13.1)\n",
            "Requirement already satisfied: joblib>=1.1.1 in /usr/local/lib/python3.10/dist-packages (from scikit-learn==1.3.1) (1.4.2)\n",
            "Requirement already satisfied: threadpoolctl>=2.0.0 in /usr/local/lib/python3.10/dist-packages (from scikit-learn==1.3.1) (3.5.0)\n",
            "Using cached scikit_learn-1.3.1-cp310-cp310-manylinux_2_17_x86_64.manylinux2014_x86_64.whl (10.8 MB)\n",
            "Installing collected packages: scikit-learn\n",
            "\u001b[31mERROR: pip's dependency resolver does not currently take into account all the packages that are installed. This behaviour is the source of the following dependency conflicts.\n",
            "imbalanced-learn 0.13.0 requires scikit-learn<2,>=1.3.2, but you have scikit-learn 1.3.1 which is incompatible.\u001b[0m\u001b[31m\n",
            "\u001b[0mSuccessfully installed scikit-learn-1.3.1\n"
          ]
        }
      ],
      "source": [
        "!pip uninstall -y scikit-learn\n",
        "!pip install scikit-learn==1.3.1"
      ]
    },
    {
      "cell_type": "code",
      "execution_count": null,
      "metadata": {
        "id": "16rFwlBdVJw-"
      },
      "outputs": [],
      "source": [
        "import pandas as pd\n",
        "import matplotlib.pyplot as plt\n",
        "import seaborn as sns\n",
        "import plotly.express as px"
      ]
    },
    {
      "cell_type": "code",
      "execution_count": null,
      "metadata": {
        "colab": {
          "base_uri": "https://localhost:8080/",
          "height": 206
        },
        "id": "FgMivUFFhhun",
        "outputId": "edf3e27f-27a1-49e6-d9eb-9d391707ddfd"
      },
      "outputs": [
        {
          "data": {
            "text/html": [
              "\n",
              "  <div id=\"df-fa2c8e59-6edc-459c-9e6f-adae016c7435\" class=\"colab-df-container\">\n",
              "    <div>\n",
              "<style scoped>\n",
              "    .dataframe tbody tr th:only-of-type {\n",
              "        vertical-align: middle;\n",
              "    }\n",
              "\n",
              "    .dataframe tbody tr th {\n",
              "        vertical-align: top;\n",
              "    }\n",
              "\n",
              "    .dataframe thead th {\n",
              "        text-align: right;\n",
              "    }\n",
              "</style>\n",
              "<table border=\"1\" class=\"dataframe\">\n",
              "  <thead>\n",
              "    <tr style=\"text-align: right;\">\n",
              "      <th></th>\n",
              "      <th>ID</th>\n",
              "      <th>Registration Date</th>\n",
              "      <th>Drug</th>\n",
              "      <th>Birth Date</th>\n",
              "      <th>Gender</th>\n",
              "      <th>Ascites</th>\n",
              "      <th>Hepatomegaly</th>\n",
              "      <th>Edema</th>\n",
              "      <th>Bilirubin</th>\n",
              "      <th>Cholesterol</th>\n",
              "      <th>Albumin</th>\n",
              "      <th>Copper</th>\n",
              "      <th>Alkaline Phospatase (U/L)</th>\n",
              "      <th>SGOT</th>\n",
              "      <th>Tryglicerides</th>\n",
              "      <th>Platelets</th>\n",
              "      <th>Prothrombin</th>\n",
              "      <th>Stage</th>\n",
              "    </tr>\n",
              "  </thead>\n",
              "  <tbody>\n",
              "    <tr>\n",
              "      <th>0</th>\n",
              "      <td>1</td>\n",
              "      <td>2023/11/07</td>\n",
              "      <td>D-penicillamine</td>\n",
              "      <td>1966/03/07</td>\n",
              "      <td>F</td>\n",
              "      <td>Y</td>\n",
              "      <td>Y</td>\n",
              "      <td>Y</td>\n",
              "      <td>14.5</td>\n",
              "      <td>261.0</td>\n",
              "      <td>2.60</td>\n",
              "      <td>156.0</td>\n",
              "      <td>1718.0</td>\n",
              "      <td>137.95</td>\n",
              "      <td>172.0</td>\n",
              "      <td>190.0</td>\n",
              "      <td>12.2</td>\n",
              "      <td>Stage4</td>\n",
              "    </tr>\n",
              "    <tr>\n",
              "      <th>1</th>\n",
              "      <td>2</td>\n",
              "      <td>2012/08/16</td>\n",
              "      <td>D-penicillamine</td>\n",
              "      <td>1968/07/01</td>\n",
              "      <td>F</td>\n",
              "      <td>N</td>\n",
              "      <td>Y</td>\n",
              "      <td>N</td>\n",
              "      <td>1.1</td>\n",
              "      <td>302.0</td>\n",
              "      <td>4.14</td>\n",
              "      <td>54.0</td>\n",
              "      <td>7394.8</td>\n",
              "      <td>113.52</td>\n",
              "      <td>88.0</td>\n",
              "      <td>221.0</td>\n",
              "      <td>10.6</td>\n",
              "      <td>stage_3</td>\n",
              "    </tr>\n",
              "    <tr>\n",
              "      <th>2</th>\n",
              "      <td>3</td>\n",
              "      <td>2022/03/05</td>\n",
              "      <td>D-penicillamine</td>\n",
              "      <td>1954/11/15</td>\n",
              "      <td>M</td>\n",
              "      <td>N</td>\n",
              "      <td>N</td>\n",
              "      <td>S</td>\n",
              "      <td>1.4</td>\n",
              "      <td>NaN</td>\n",
              "      <td>3.48</td>\n",
              "      <td>210.0</td>\n",
              "      <td>516.0</td>\n",
              "      <td>96.10</td>\n",
              "      <td>55.0</td>\n",
              "      <td>151.0</td>\n",
              "      <td>12.0</td>\n",
              "      <td>Stage4</td>\n",
              "    </tr>\n",
              "    <tr>\n",
              "      <th>3</th>\n",
              "      <td>4</td>\n",
              "      <td>2019/09/04</td>\n",
              "      <td>D-penicillamine</td>\n",
              "      <td>1970/03/16</td>\n",
              "      <td>F</td>\n",
              "      <td>N</td>\n",
              "      <td>Y</td>\n",
              "      <td>S</td>\n",
              "      <td>1.8</td>\n",
              "      <td>244.0</td>\n",
              "      <td>2.54</td>\n",
              "      <td>64.0</td>\n",
              "      <td>6121.8</td>\n",
              "      <td>60.63</td>\n",
              "      <td>92.0</td>\n",
              "      <td>183.0</td>\n",
              "      <td>10.3</td>\n",
              "      <td>Stage4</td>\n",
              "    </tr>\n",
              "    <tr>\n",
              "      <th>4</th>\n",
              "      <td>5</td>\n",
              "      <td>2020/10/29</td>\n",
              "      <td>Placebo</td>\n",
              "      <td>1986/11/03</td>\n",
              "      <td>F</td>\n",
              "      <td>N</td>\n",
              "      <td>Y</td>\n",
              "      <td>N</td>\n",
              "      <td>3.4</td>\n",
              "      <td>NaN</td>\n",
              "      <td>3.53</td>\n",
              "      <td>143.0</td>\n",
              "      <td>671.0</td>\n",
              "      <td>113.15</td>\n",
              "      <td>72.0</td>\n",
              "      <td>136.0</td>\n",
              "      <td>10.9</td>\n",
              "      <td>stage_3</td>\n",
              "    </tr>\n",
              "  </tbody>\n",
              "</table>\n",
              "</div>\n",
              "    <div class=\"colab-df-buttons\">\n",
              "      \n",
              "  <div class=\"colab-df-container\">\n",
              "    <button class=\"colab-df-convert\" onclick=\"convertToInteractive('df-fa2c8e59-6edc-459c-9e6f-adae016c7435')\"\n",
              "            title=\"Convert this dataframe to an interactive table.\"\n",
              "            style=\"display:none;\">\n",
              "      \n",
              "  <svg xmlns=\"http://www.w3.org/2000/svg\" height=\"24px\" viewBox=\"0 -960 960 960\">\n",
              "    <path d=\"M120-120v-720h720v720H120Zm60-500h600v-160H180v160Zm220 220h160v-160H400v160Zm0 220h160v-160H400v160ZM180-400h160v-160H180v160Zm440 0h160v-160H620v160ZM180-180h160v-160H180v160Zm440 0h160v-160H620v160Z\"/>\n",
              "  </svg>\n",
              "    </button>\n",
              "    \n",
              "  <style>\n",
              "    .colab-df-container {\n",
              "      display:flex;\n",
              "      gap: 12px;\n",
              "    }\n",
              "\n",
              "    .colab-df-convert {\n",
              "      background-color: #E8F0FE;\n",
              "      border: none;\n",
              "      border-radius: 50%;\n",
              "      cursor: pointer;\n",
              "      display: none;\n",
              "      fill: #1967D2;\n",
              "      height: 32px;\n",
              "      padding: 0 0 0 0;\n",
              "      width: 32px;\n",
              "    }\n",
              "\n",
              "    .colab-df-convert:hover {\n",
              "      background-color: #E2EBFA;\n",
              "      box-shadow: 0px 1px 2px rgba(60, 64, 67, 0.3), 0px 1px 3px 1px rgba(60, 64, 67, 0.15);\n",
              "      fill: #174EA6;\n",
              "    }\n",
              "\n",
              "    .colab-df-buttons div {\n",
              "      margin-bottom: 4px;\n",
              "    }\n",
              "\n",
              "    [theme=dark] .colab-df-convert {\n",
              "      background-color: #3B4455;\n",
              "      fill: #D2E3FC;\n",
              "    }\n",
              "\n",
              "    [theme=dark] .colab-df-convert:hover {\n",
              "      background-color: #434B5C;\n",
              "      box-shadow: 0px 1px 3px 1px rgba(0, 0, 0, 0.15);\n",
              "      filter: drop-shadow(0px 1px 2px rgba(0, 0, 0, 0.3));\n",
              "      fill: #FFFFFF;\n",
              "    }\n",
              "  </style>\n",
              "\n",
              "    <script>\n",
              "      const buttonEl =\n",
              "        document.querySelector('#df-fa2c8e59-6edc-459c-9e6f-adae016c7435 button.colab-df-convert');\n",
              "      buttonEl.style.display =\n",
              "        google.colab.kernel.accessAllowed ? 'block' : 'none';\n",
              "\n",
              "      async function convertToInteractive(key) {\n",
              "        const element = document.querySelector('#df-fa2c8e59-6edc-459c-9e6f-adae016c7435');\n",
              "        const dataTable =\n",
              "          await google.colab.kernel.invokeFunction('convertToInteractive',\n",
              "                                                    [key], {});\n",
              "        if (!dataTable) return;\n",
              "\n",
              "        const docLinkHtml = 'Like what you see? Visit the ' +\n",
              "          '<a target=\"_blank\" href=https://colab.research.google.com/notebooks/data_table.ipynb>data table notebook</a>'\n",
              "          + ' to learn more about interactive tables.';\n",
              "        element.innerHTML = '';\n",
              "        dataTable['output_type'] = 'display_data';\n",
              "        await google.colab.output.renderOutput(dataTable, element);\n",
              "        const docLink = document.createElement('div');\n",
              "        docLink.innerHTML = docLinkHtml;\n",
              "        element.appendChild(docLink);\n",
              "      }\n",
              "    </script>\n",
              "  </div>\n",
              "  \n",
              "    </div>\n",
              "  </div>\n",
              "  "
            ],
            "text/plain": [
              "   ID Registration Date             Drug  Birth Date Gender Ascites  \\\n",
              "0   1        2023/11/07  D-penicillamine  1966/03/07      F       Y   \n",
              "1   2        2012/08/16  D-penicillamine  1968/07/01      F       N   \n",
              "2   3        2022/03/05  D-penicillamine  1954/11/15      M       N   \n",
              "3   4        2019/09/04  D-penicillamine  1970/03/16      F       N   \n",
              "4   5        2020/10/29          Placebo  1986/11/03      F       N   \n",
              "\n",
              "  Hepatomegaly Edema  Bilirubin  Cholesterol  Albumin  Copper  \\\n",
              "0            Y     Y       14.5        261.0     2.60   156.0   \n",
              "1            Y     N        1.1        302.0     4.14    54.0   \n",
              "2            N     S        1.4          NaN     3.48   210.0   \n",
              "3            Y     S        1.8        244.0     2.54    64.0   \n",
              "4            Y     N        3.4          NaN     3.53   143.0   \n",
              "\n",
              "   Alkaline Phospatase (U/L)    SGOT  Tryglicerides  Platelets  Prothrombin  \\\n",
              "0                     1718.0  137.95          172.0      190.0         12.2   \n",
              "1                     7394.8  113.52           88.0      221.0         10.6   \n",
              "2                      516.0   96.10           55.0      151.0         12.0   \n",
              "3                     6121.8   60.63           92.0      183.0         10.3   \n",
              "4                      671.0  113.15           72.0      136.0         10.9   \n",
              "\n",
              "     Stage  \n",
              "0   Stage4  \n",
              "1  stage_3  \n",
              "2   Stage4  \n",
              "3   Stage4  \n",
              "4  stage_3  "
            ]
          },
          "execution_count": 3,
          "metadata": {},
          "output_type": "execute_result"
        }
      ],
      "source": [
        "# READ DATA WITH TAB SEPARATOR\n",
        "\n",
        "data = pd.read_csv('1A.tsv', sep='\\t')\n",
        "data.head()"
      ]
    },
    {
      "cell_type": "code",
      "execution_count": null,
      "metadata": {
        "colab": {
          "base_uri": "https://localhost:8080/"
        },
        "id": "pEgDhl6ciM8U",
        "outputId": "8372d55a-9561-4c40-fc99-723c2b99c840"
      },
      "outputs": [
        {
          "name": "stdout",
          "output_type": "stream",
          "text": [
            "<class 'pandas.core.frame.DataFrame'>\n",
            "RangeIndex: 418 entries, 0 to 417\n",
            "Data columns (total 18 columns):\n",
            " #   Column                     Non-Null Count  Dtype  \n",
            "---  ------                     --------------  -----  \n",
            " 0   ID                         418 non-null    int64  \n",
            " 1   Registration Date          418 non-null    object \n",
            " 2   Drug                       312 non-null    object \n",
            " 3   Birth Date                 418 non-null    object \n",
            " 4   Gender                     418 non-null    object \n",
            " 5   Ascites                    312 non-null    object \n",
            " 6   Hepatomegaly               312 non-null    object \n",
            " 7   Edema                      418 non-null    object \n",
            " 8   Bilirubin                  418 non-null    float64\n",
            " 9   Cholesterol                80 non-null     float64\n",
            " 10  Albumin                    418 non-null    float64\n",
            " 11  Copper                     310 non-null    float64\n",
            " 12  Alkaline Phospatase (U/L)  312 non-null    float64\n",
            " 13  SGOT                       312 non-null    float64\n",
            " 14  Tryglicerides              418 non-null    float64\n",
            " 15  Platelets                  407 non-null    float64\n",
            " 16  Prothrombin                416 non-null    float64\n",
            " 17  Stage                      412 non-null    object \n",
            "dtypes: float64(9), int64(1), object(8)\n",
            "memory usage: 58.9+ KB\n"
          ]
        }
      ],
      "source": [
        "# CHECK DATA TYPES AND INFORMATION\n",
        "\n",
        "data.info()"
      ]
    },
    {
      "cell_type": "markdown",
      "metadata": {
        "id": "b0wvFOBxiUui"
      },
      "source": [
        "The dataset consists of a total of 18 columns; 9 columns with float data types, 1 column with integer data type, and 8 categorical columns. There is a significant amount of missing data, especially in the 'Cholesterol' column.\n",
        "\n",
        "### Handling Missing Value"
      ]
    },
    {
      "cell_type": "code",
      "execution_count": null,
      "metadata": {
        "colab": {
          "base_uri": "https://localhost:8080/",
          "height": 614
        },
        "id": "0f8x62BIi7rZ",
        "outputId": "ceda6dbb-add2-41d1-b75c-bd3bc6b3df3d"
      },
      "outputs": [
        {
          "data": {
            "text/html": [
              "\n",
              "  <div id=\"df-b5e411cb-ff7f-4099-abf7-1be6ce04cd9c\" class=\"colab-df-container\">\n",
              "    <div>\n",
              "<style scoped>\n",
              "    .dataframe tbody tr th:only-of-type {\n",
              "        vertical-align: middle;\n",
              "    }\n",
              "\n",
              "    .dataframe tbody tr th {\n",
              "        vertical-align: top;\n",
              "    }\n",
              "\n",
              "    .dataframe thead th {\n",
              "        text-align: right;\n",
              "    }\n",
              "</style>\n",
              "<table border=\"1\" class=\"dataframe\">\n",
              "  <thead>\n",
              "    <tr style=\"text-align: right;\">\n",
              "      <th></th>\n",
              "      <th>Missing Values</th>\n",
              "      <th>Percentage (%)</th>\n",
              "    </tr>\n",
              "  </thead>\n",
              "  <tbody>\n",
              "    <tr>\n",
              "      <th>ID</th>\n",
              "      <td>0</td>\n",
              "      <td>0.000000</td>\n",
              "    </tr>\n",
              "    <tr>\n",
              "      <th>Registration Date</th>\n",
              "      <td>0</td>\n",
              "      <td>0.000000</td>\n",
              "    </tr>\n",
              "    <tr>\n",
              "      <th>Drug</th>\n",
              "      <td>106</td>\n",
              "      <td>25.358852</td>\n",
              "    </tr>\n",
              "    <tr>\n",
              "      <th>Birth Date</th>\n",
              "      <td>0</td>\n",
              "      <td>0.000000</td>\n",
              "    </tr>\n",
              "    <tr>\n",
              "      <th>Gender</th>\n",
              "      <td>0</td>\n",
              "      <td>0.000000</td>\n",
              "    </tr>\n",
              "    <tr>\n",
              "      <th>Ascites</th>\n",
              "      <td>106</td>\n",
              "      <td>25.358852</td>\n",
              "    </tr>\n",
              "    <tr>\n",
              "      <th>Hepatomegaly</th>\n",
              "      <td>106</td>\n",
              "      <td>25.358852</td>\n",
              "    </tr>\n",
              "    <tr>\n",
              "      <th>Edema</th>\n",
              "      <td>0</td>\n",
              "      <td>0.000000</td>\n",
              "    </tr>\n",
              "    <tr>\n",
              "      <th>Bilirubin</th>\n",
              "      <td>0</td>\n",
              "      <td>0.000000</td>\n",
              "    </tr>\n",
              "    <tr>\n",
              "      <th>Cholesterol</th>\n",
              "      <td>338</td>\n",
              "      <td>80.861244</td>\n",
              "    </tr>\n",
              "    <tr>\n",
              "      <th>Albumin</th>\n",
              "      <td>0</td>\n",
              "      <td>0.000000</td>\n",
              "    </tr>\n",
              "    <tr>\n",
              "      <th>Copper</th>\n",
              "      <td>108</td>\n",
              "      <td>25.837321</td>\n",
              "    </tr>\n",
              "    <tr>\n",
              "      <th>Alkaline Phospatase (U/L)</th>\n",
              "      <td>106</td>\n",
              "      <td>25.358852</td>\n",
              "    </tr>\n",
              "    <tr>\n",
              "      <th>SGOT</th>\n",
              "      <td>106</td>\n",
              "      <td>25.358852</td>\n",
              "    </tr>\n",
              "    <tr>\n",
              "      <th>Tryglicerides</th>\n",
              "      <td>0</td>\n",
              "      <td>0.000000</td>\n",
              "    </tr>\n",
              "    <tr>\n",
              "      <th>Platelets</th>\n",
              "      <td>11</td>\n",
              "      <td>2.631579</td>\n",
              "    </tr>\n",
              "    <tr>\n",
              "      <th>Prothrombin</th>\n",
              "      <td>2</td>\n",
              "      <td>0.478469</td>\n",
              "    </tr>\n",
              "    <tr>\n",
              "      <th>Stage</th>\n",
              "      <td>6</td>\n",
              "      <td>1.435407</td>\n",
              "    </tr>\n",
              "  </tbody>\n",
              "</table>\n",
              "</div>\n",
              "    <div class=\"colab-df-buttons\">\n",
              "      \n",
              "  <div class=\"colab-df-container\">\n",
              "    <button class=\"colab-df-convert\" onclick=\"convertToInteractive('df-b5e411cb-ff7f-4099-abf7-1be6ce04cd9c')\"\n",
              "            title=\"Convert this dataframe to an interactive table.\"\n",
              "            style=\"display:none;\">\n",
              "      \n",
              "  <svg xmlns=\"http://www.w3.org/2000/svg\" height=\"24px\" viewBox=\"0 -960 960 960\">\n",
              "    <path d=\"M120-120v-720h720v720H120Zm60-500h600v-160H180v160Zm220 220h160v-160H400v160Zm0 220h160v-160H400v160ZM180-400h160v-160H180v160Zm440 0h160v-160H620v160ZM180-180h160v-160H180v160Zm440 0h160v-160H620v160Z\"/>\n",
              "  </svg>\n",
              "    </button>\n",
              "    \n",
              "  <style>\n",
              "    .colab-df-container {\n",
              "      display:flex;\n",
              "      gap: 12px;\n",
              "    }\n",
              "\n",
              "    .colab-df-convert {\n",
              "      background-color: #E8F0FE;\n",
              "      border: none;\n",
              "      border-radius: 50%;\n",
              "      cursor: pointer;\n",
              "      display: none;\n",
              "      fill: #1967D2;\n",
              "      height: 32px;\n",
              "      padding: 0 0 0 0;\n",
              "      width: 32px;\n",
              "    }\n",
              "\n",
              "    .colab-df-convert:hover {\n",
              "      background-color: #E2EBFA;\n",
              "      box-shadow: 0px 1px 2px rgba(60, 64, 67, 0.3), 0px 1px 3px 1px rgba(60, 64, 67, 0.15);\n",
              "      fill: #174EA6;\n",
              "    }\n",
              "\n",
              "    .colab-df-buttons div {\n",
              "      margin-bottom: 4px;\n",
              "    }\n",
              "\n",
              "    [theme=dark] .colab-df-convert {\n",
              "      background-color: #3B4455;\n",
              "      fill: #D2E3FC;\n",
              "    }\n",
              "\n",
              "    [theme=dark] .colab-df-convert:hover {\n",
              "      background-color: #434B5C;\n",
              "      box-shadow: 0px 1px 3px 1px rgba(0, 0, 0, 0.15);\n",
              "      filter: drop-shadow(0px 1px 2px rgba(0, 0, 0, 0.3));\n",
              "      fill: #FFFFFF;\n",
              "    }\n",
              "  </style>\n",
              "\n",
              "    <script>\n",
              "      const buttonEl =\n",
              "        document.querySelector('#df-b5e411cb-ff7f-4099-abf7-1be6ce04cd9c button.colab-df-convert');\n",
              "      buttonEl.style.display =\n",
              "        google.colab.kernel.accessAllowed ? 'block' : 'none';\n",
              "\n",
              "      async function convertToInteractive(key) {\n",
              "        const element = document.querySelector('#df-b5e411cb-ff7f-4099-abf7-1be6ce04cd9c');\n",
              "        const dataTable =\n",
              "          await google.colab.kernel.invokeFunction('convertToInteractive',\n",
              "                                                    [key], {});\n",
              "        if (!dataTable) return;\n",
              "\n",
              "        const docLinkHtml = 'Like what you see? Visit the ' +\n",
              "          '<a target=\"_blank\" href=https://colab.research.google.com/notebooks/data_table.ipynb>data table notebook</a>'\n",
              "          + ' to learn more about interactive tables.';\n",
              "        element.innerHTML = '';\n",
              "        dataTable['output_type'] = 'display_data';\n",
              "        await google.colab.output.renderOutput(dataTable, element);\n",
              "        const docLink = document.createElement('div');\n",
              "        docLink.innerHTML = docLinkHtml;\n",
              "        element.appendChild(docLink);\n",
              "      }\n",
              "    </script>\n",
              "  </div>\n",
              "  \n",
              "    </div>\n",
              "  </div>\n",
              "  "
            ],
            "text/plain": [
              "                           Missing Values  Percentage (%)\n",
              "ID                                      0        0.000000\n",
              "Registration Date                       0        0.000000\n",
              "Drug                                  106       25.358852\n",
              "Birth Date                              0        0.000000\n",
              "Gender                                  0        0.000000\n",
              "Ascites                               106       25.358852\n",
              "Hepatomegaly                          106       25.358852\n",
              "Edema                                   0        0.000000\n",
              "Bilirubin                               0        0.000000\n",
              "Cholesterol                           338       80.861244\n",
              "Albumin                                 0        0.000000\n",
              "Copper                                108       25.837321\n",
              "Alkaline Phospatase (U/L)             106       25.358852\n",
              "SGOT                                  106       25.358852\n",
              "Tryglicerides                           0        0.000000\n",
              "Platelets                              11        2.631579\n",
              "Prothrombin                             2        0.478469\n",
              "Stage                                   6        1.435407"
            ]
          },
          "execution_count": 5,
          "metadata": {},
          "output_type": "execute_result"
        }
      ],
      "source": [
        "# COUNT MISSING VALUES\n",
        "na_ammount = data.isna().sum()\n",
        "na_percentage = (na_ammount / len(data)) * 100\n",
        "\n",
        "pd.DataFrame({\n",
        "    'Missing Values': na_ammount,\n",
        "    'Percentage (%)': na_percentage\n",
        "})"
      ]
    },
    {
      "cell_type": "markdown",
      "metadata": {
        "id": "I9zDPkd8oIEB"
      },
      "source": [
        "Because 'Cholesterol' columns contains 338 missing value (80.86%), the column will be dropped."
      ]
    },
    {
      "cell_type": "code",
      "execution_count": null,
      "metadata": {
        "colab": {
          "base_uri": "https://localhost:8080/",
          "height": 206
        },
        "id": "4Zslfdfjo2CZ",
        "outputId": "773918c9-2a4c-4f90-fed1-668220baa502"
      },
      "outputs": [
        {
          "data": {
            "text/html": [
              "\n",
              "  <div id=\"df-458e65d0-8b8c-4842-91dd-fe0e1b3062c9\" class=\"colab-df-container\">\n",
              "    <div>\n",
              "<style scoped>\n",
              "    .dataframe tbody tr th:only-of-type {\n",
              "        vertical-align: middle;\n",
              "    }\n",
              "\n",
              "    .dataframe tbody tr th {\n",
              "        vertical-align: top;\n",
              "    }\n",
              "\n",
              "    .dataframe thead th {\n",
              "        text-align: right;\n",
              "    }\n",
              "</style>\n",
              "<table border=\"1\" class=\"dataframe\">\n",
              "  <thead>\n",
              "    <tr style=\"text-align: right;\">\n",
              "      <th></th>\n",
              "      <th>ID</th>\n",
              "      <th>Registration Date</th>\n",
              "      <th>Drug</th>\n",
              "      <th>Birth Date</th>\n",
              "      <th>Gender</th>\n",
              "      <th>Ascites</th>\n",
              "      <th>Hepatomegaly</th>\n",
              "      <th>Edema</th>\n",
              "      <th>Bilirubin</th>\n",
              "      <th>Albumin</th>\n",
              "      <th>Copper</th>\n",
              "      <th>Alkaline Phospatase (U/L)</th>\n",
              "      <th>SGOT</th>\n",
              "      <th>Tryglicerides</th>\n",
              "      <th>Platelets</th>\n",
              "      <th>Prothrombin</th>\n",
              "      <th>Stage</th>\n",
              "    </tr>\n",
              "  </thead>\n",
              "  <tbody>\n",
              "    <tr>\n",
              "      <th>0</th>\n",
              "      <td>1</td>\n",
              "      <td>2023/11/07</td>\n",
              "      <td>D-penicillamine</td>\n",
              "      <td>1966/03/07</td>\n",
              "      <td>F</td>\n",
              "      <td>Y</td>\n",
              "      <td>Y</td>\n",
              "      <td>Y</td>\n",
              "      <td>14.5</td>\n",
              "      <td>2.60</td>\n",
              "      <td>156.0</td>\n",
              "      <td>1718.0</td>\n",
              "      <td>137.95</td>\n",
              "      <td>172.0</td>\n",
              "      <td>190.0</td>\n",
              "      <td>12.2</td>\n",
              "      <td>Stage4</td>\n",
              "    </tr>\n",
              "    <tr>\n",
              "      <th>1</th>\n",
              "      <td>2</td>\n",
              "      <td>2012/08/16</td>\n",
              "      <td>D-penicillamine</td>\n",
              "      <td>1968/07/01</td>\n",
              "      <td>F</td>\n",
              "      <td>N</td>\n",
              "      <td>Y</td>\n",
              "      <td>N</td>\n",
              "      <td>1.1</td>\n",
              "      <td>4.14</td>\n",
              "      <td>54.0</td>\n",
              "      <td>7394.8</td>\n",
              "      <td>113.52</td>\n",
              "      <td>88.0</td>\n",
              "      <td>221.0</td>\n",
              "      <td>10.6</td>\n",
              "      <td>stage_3</td>\n",
              "    </tr>\n",
              "    <tr>\n",
              "      <th>2</th>\n",
              "      <td>3</td>\n",
              "      <td>2022/03/05</td>\n",
              "      <td>D-penicillamine</td>\n",
              "      <td>1954/11/15</td>\n",
              "      <td>M</td>\n",
              "      <td>N</td>\n",
              "      <td>N</td>\n",
              "      <td>S</td>\n",
              "      <td>1.4</td>\n",
              "      <td>3.48</td>\n",
              "      <td>210.0</td>\n",
              "      <td>516.0</td>\n",
              "      <td>96.10</td>\n",
              "      <td>55.0</td>\n",
              "      <td>151.0</td>\n",
              "      <td>12.0</td>\n",
              "      <td>Stage4</td>\n",
              "    </tr>\n",
              "    <tr>\n",
              "      <th>3</th>\n",
              "      <td>4</td>\n",
              "      <td>2019/09/04</td>\n",
              "      <td>D-penicillamine</td>\n",
              "      <td>1970/03/16</td>\n",
              "      <td>F</td>\n",
              "      <td>N</td>\n",
              "      <td>Y</td>\n",
              "      <td>S</td>\n",
              "      <td>1.8</td>\n",
              "      <td>2.54</td>\n",
              "      <td>64.0</td>\n",
              "      <td>6121.8</td>\n",
              "      <td>60.63</td>\n",
              "      <td>92.0</td>\n",
              "      <td>183.0</td>\n",
              "      <td>10.3</td>\n",
              "      <td>Stage4</td>\n",
              "    </tr>\n",
              "    <tr>\n",
              "      <th>4</th>\n",
              "      <td>5</td>\n",
              "      <td>2020/10/29</td>\n",
              "      <td>Placebo</td>\n",
              "      <td>1986/11/03</td>\n",
              "      <td>F</td>\n",
              "      <td>N</td>\n",
              "      <td>Y</td>\n",
              "      <td>N</td>\n",
              "      <td>3.4</td>\n",
              "      <td>3.53</td>\n",
              "      <td>143.0</td>\n",
              "      <td>671.0</td>\n",
              "      <td>113.15</td>\n",
              "      <td>72.0</td>\n",
              "      <td>136.0</td>\n",
              "      <td>10.9</td>\n",
              "      <td>stage_3</td>\n",
              "    </tr>\n",
              "  </tbody>\n",
              "</table>\n",
              "</div>\n",
              "    <div class=\"colab-df-buttons\">\n",
              "      \n",
              "  <div class=\"colab-df-container\">\n",
              "    <button class=\"colab-df-convert\" onclick=\"convertToInteractive('df-458e65d0-8b8c-4842-91dd-fe0e1b3062c9')\"\n",
              "            title=\"Convert this dataframe to an interactive table.\"\n",
              "            style=\"display:none;\">\n",
              "      \n",
              "  <svg xmlns=\"http://www.w3.org/2000/svg\" height=\"24px\" viewBox=\"0 -960 960 960\">\n",
              "    <path d=\"M120-120v-720h720v720H120Zm60-500h600v-160H180v160Zm220 220h160v-160H400v160Zm0 220h160v-160H400v160ZM180-400h160v-160H180v160Zm440 0h160v-160H620v160ZM180-180h160v-160H180v160Zm440 0h160v-160H620v160Z\"/>\n",
              "  </svg>\n",
              "    </button>\n",
              "    \n",
              "  <style>\n",
              "    .colab-df-container {\n",
              "      display:flex;\n",
              "      gap: 12px;\n",
              "    }\n",
              "\n",
              "    .colab-df-convert {\n",
              "      background-color: #E8F0FE;\n",
              "      border: none;\n",
              "      border-radius: 50%;\n",
              "      cursor: pointer;\n",
              "      display: none;\n",
              "      fill: #1967D2;\n",
              "      height: 32px;\n",
              "      padding: 0 0 0 0;\n",
              "      width: 32px;\n",
              "    }\n",
              "\n",
              "    .colab-df-convert:hover {\n",
              "      background-color: #E2EBFA;\n",
              "      box-shadow: 0px 1px 2px rgba(60, 64, 67, 0.3), 0px 1px 3px 1px rgba(60, 64, 67, 0.15);\n",
              "      fill: #174EA6;\n",
              "    }\n",
              "\n",
              "    .colab-df-buttons div {\n",
              "      margin-bottom: 4px;\n",
              "    }\n",
              "\n",
              "    [theme=dark] .colab-df-convert {\n",
              "      background-color: #3B4455;\n",
              "      fill: #D2E3FC;\n",
              "    }\n",
              "\n",
              "    [theme=dark] .colab-df-convert:hover {\n",
              "      background-color: #434B5C;\n",
              "      box-shadow: 0px 1px 3px 1px rgba(0, 0, 0, 0.15);\n",
              "      filter: drop-shadow(0px 1px 2px rgba(0, 0, 0, 0.3));\n",
              "      fill: #FFFFFF;\n",
              "    }\n",
              "  </style>\n",
              "\n",
              "    <script>\n",
              "      const buttonEl =\n",
              "        document.querySelector('#df-458e65d0-8b8c-4842-91dd-fe0e1b3062c9 button.colab-df-convert');\n",
              "      buttonEl.style.display =\n",
              "        google.colab.kernel.accessAllowed ? 'block' : 'none';\n",
              "\n",
              "      async function convertToInteractive(key) {\n",
              "        const element = document.querySelector('#df-458e65d0-8b8c-4842-91dd-fe0e1b3062c9');\n",
              "        const dataTable =\n",
              "          await google.colab.kernel.invokeFunction('convertToInteractive',\n",
              "                                                    [key], {});\n",
              "        if (!dataTable) return;\n",
              "\n",
              "        const docLinkHtml = 'Like what you see? Visit the ' +\n",
              "          '<a target=\"_blank\" href=https://colab.research.google.com/notebooks/data_table.ipynb>data table notebook</a>'\n",
              "          + ' to learn more about interactive tables.';\n",
              "        element.innerHTML = '';\n",
              "        dataTable['output_type'] = 'display_data';\n",
              "        await google.colab.output.renderOutput(dataTable, element);\n",
              "        const docLink = document.createElement('div');\n",
              "        docLink.innerHTML = docLinkHtml;\n",
              "        element.appendChild(docLink);\n",
              "      }\n",
              "    </script>\n",
              "  </div>\n",
              "  \n",
              "    </div>\n",
              "  </div>\n",
              "  "
            ],
            "text/plain": [
              "   ID Registration Date             Drug  Birth Date Gender Ascites  \\\n",
              "0   1        2023/11/07  D-penicillamine  1966/03/07      F       Y   \n",
              "1   2        2012/08/16  D-penicillamine  1968/07/01      F       N   \n",
              "2   3        2022/03/05  D-penicillamine  1954/11/15      M       N   \n",
              "3   4        2019/09/04  D-penicillamine  1970/03/16      F       N   \n",
              "4   5        2020/10/29          Placebo  1986/11/03      F       N   \n",
              "\n",
              "  Hepatomegaly Edema  Bilirubin  Albumin  Copper  Alkaline Phospatase (U/L)  \\\n",
              "0            Y     Y       14.5     2.60   156.0                     1718.0   \n",
              "1            Y     N        1.1     4.14    54.0                     7394.8   \n",
              "2            N     S        1.4     3.48   210.0                      516.0   \n",
              "3            Y     S        1.8     2.54    64.0                     6121.8   \n",
              "4            Y     N        3.4     3.53   143.0                      671.0   \n",
              "\n",
              "     SGOT  Tryglicerides  Platelets  Prothrombin    Stage  \n",
              "0  137.95          172.0      190.0         12.2   Stage4  \n",
              "1  113.52           88.0      221.0         10.6  stage_3  \n",
              "2   96.10           55.0      151.0         12.0   Stage4  \n",
              "3   60.63           92.0      183.0         10.3   Stage4  \n",
              "4  113.15           72.0      136.0         10.9  stage_3  "
            ]
          },
          "execution_count": 6,
          "metadata": {},
          "output_type": "execute_result"
        }
      ],
      "source": [
        "data = data.drop('Cholesterol', axis=1) # drop column\n",
        "data.head()"
      ]
    },
    {
      "cell_type": "markdown",
      "metadata": {
        "id": "m7wfYz7Rwwdq"
      },
      "source": [
        "'Stage' column will be the y, so the missing values will be deleted too."
      ]
    },
    {
      "cell_type": "code",
      "execution_count": null,
      "metadata": {
        "colab": {
          "base_uri": "https://localhost:8080/",
          "height": 617
        },
        "id": "7oGtrYoCwwFR",
        "outputId": "4cac6d82-8dd6-45d6-e22f-41b6b5222870"
      },
      "outputs": [
        {
          "data": {
            "text/html": [
              "<div>\n",
              "<style scoped>\n",
              "    .dataframe tbody tr th:only-of-type {\n",
              "        vertical-align: middle;\n",
              "    }\n",
              "\n",
              "    .dataframe tbody tr th {\n",
              "        vertical-align: top;\n",
              "    }\n",
              "\n",
              "    .dataframe thead th {\n",
              "        text-align: right;\n",
              "    }\n",
              "</style>\n",
              "<table border=\"1\" class=\"dataframe\">\n",
              "  <thead>\n",
              "    <tr style=\"text-align: right;\">\n",
              "      <th></th>\n",
              "      <th>0</th>\n",
              "    </tr>\n",
              "  </thead>\n",
              "  <tbody>\n",
              "    <tr>\n",
              "      <th>ID</th>\n",
              "      <td>0</td>\n",
              "    </tr>\n",
              "    <tr>\n",
              "      <th>Registration Date</th>\n",
              "      <td>0</td>\n",
              "    </tr>\n",
              "    <tr>\n",
              "      <th>Drug</th>\n",
              "      <td>100</td>\n",
              "    </tr>\n",
              "    <tr>\n",
              "      <th>Birth Date</th>\n",
              "      <td>0</td>\n",
              "    </tr>\n",
              "    <tr>\n",
              "      <th>Gender</th>\n",
              "      <td>0</td>\n",
              "    </tr>\n",
              "    <tr>\n",
              "      <th>Ascites</th>\n",
              "      <td>100</td>\n",
              "    </tr>\n",
              "    <tr>\n",
              "      <th>Hepatomegaly</th>\n",
              "      <td>100</td>\n",
              "    </tr>\n",
              "    <tr>\n",
              "      <th>Edema</th>\n",
              "      <td>0</td>\n",
              "    </tr>\n",
              "    <tr>\n",
              "      <th>Bilirubin</th>\n",
              "      <td>0</td>\n",
              "    </tr>\n",
              "    <tr>\n",
              "      <th>Albumin</th>\n",
              "      <td>0</td>\n",
              "    </tr>\n",
              "    <tr>\n",
              "      <th>Copper</th>\n",
              "      <td>102</td>\n",
              "    </tr>\n",
              "    <tr>\n",
              "      <th>Alkaline Phospatase (U/L)</th>\n",
              "      <td>100</td>\n",
              "    </tr>\n",
              "    <tr>\n",
              "      <th>SGOT</th>\n",
              "      <td>100</td>\n",
              "    </tr>\n",
              "    <tr>\n",
              "      <th>Tryglicerides</th>\n",
              "      <td>0</td>\n",
              "    </tr>\n",
              "    <tr>\n",
              "      <th>Platelets</th>\n",
              "      <td>11</td>\n",
              "    </tr>\n",
              "    <tr>\n",
              "      <th>Prothrombin</th>\n",
              "      <td>2</td>\n",
              "    </tr>\n",
              "    <tr>\n",
              "      <th>Stage</th>\n",
              "      <td>0</td>\n",
              "    </tr>\n",
              "  </tbody>\n",
              "</table>\n",
              "</div><br><label><b>dtype:</b> int64</label>"
            ],
            "text/plain": [
              "ID                             0\n",
              "Registration Date              0\n",
              "Drug                         100\n",
              "Birth Date                     0\n",
              "Gender                         0\n",
              "Ascites                      100\n",
              "Hepatomegaly                 100\n",
              "Edema                          0\n",
              "Bilirubin                      0\n",
              "Albumin                        0\n",
              "Copper                       102\n",
              "Alkaline Phospatase (U/L)    100\n",
              "SGOT                         100\n",
              "Tryglicerides                  0\n",
              "Platelets                     11\n",
              "Prothrombin                    2\n",
              "Stage                          0\n",
              "dtype: int64"
            ]
          },
          "execution_count": 7,
          "metadata": {},
          "output_type": "execute_result"
        }
      ],
      "source": [
        "data = data.dropna(subset=['Stage'])\n",
        "data.isna().sum()"
      ]
    },
    {
      "cell_type": "code",
      "execution_count": null,
      "metadata": {
        "colab": {
          "base_uri": "https://localhost:8080/"
        },
        "id": "7O1i1F3YvJ4r",
        "outputId": "223955d9-07b6-42a7-b7f3-e6044ea761ba"
      },
      "outputs": [
        {
          "data": {
            "text/plain": [
              "106"
            ]
          },
          "execution_count": 8,
          "metadata": {},
          "output_type": "execute_result"
        }
      ],
      "source": [
        "# COUNT MISSING VALUES (ROW) LEFT\n",
        "data.isna().any(axis=1).sum()"
      ]
    },
    {
      "cell_type": "markdown",
      "metadata": {
        "id": "SWb0SY14vWbW"
      },
      "source": [
        "There is a possibility that the missing values are located within the same rows. Therefore, I want to check the total number of rows containing any missing values to locate patterns."
      ]
    },
    {
      "cell_type": "code",
      "execution_count": null,
      "metadata": {
        "colab": {
          "base_uri": "https://localhost:8080/",
          "height": 424
        },
        "id": "iz1m_ZjMwM1W",
        "outputId": "5746cdcc-4c74-41cc-df02-06e4013b5e59"
      },
      "outputs": [
        {
          "data": {
            "text/html": [
              "\n",
              "  <div id=\"df-08c06d52-b5a0-41ee-856e-89631a8e62c5\" class=\"colab-df-container\">\n",
              "    <div>\n",
              "<style scoped>\n",
              "    .dataframe tbody tr th:only-of-type {\n",
              "        vertical-align: middle;\n",
              "    }\n",
              "\n",
              "    .dataframe tbody tr th {\n",
              "        vertical-align: top;\n",
              "    }\n",
              "\n",
              "    .dataframe thead th {\n",
              "        text-align: right;\n",
              "    }\n",
              "</style>\n",
              "<table border=\"1\" class=\"dataframe\">\n",
              "  <thead>\n",
              "    <tr style=\"text-align: right;\">\n",
              "      <th></th>\n",
              "      <th>ID</th>\n",
              "      <th>Registration Date</th>\n",
              "      <th>Drug</th>\n",
              "      <th>Birth Date</th>\n",
              "      <th>Gender</th>\n",
              "      <th>Ascites</th>\n",
              "      <th>Hepatomegaly</th>\n",
              "      <th>Edema</th>\n",
              "      <th>Bilirubin</th>\n",
              "      <th>Albumin</th>\n",
              "      <th>Copper</th>\n",
              "      <th>Alkaline Phospatase (U/L)</th>\n",
              "      <th>SGOT</th>\n",
              "      <th>Tryglicerides</th>\n",
              "      <th>Platelets</th>\n",
              "      <th>Prothrombin</th>\n",
              "      <th>Stage</th>\n",
              "    </tr>\n",
              "  </thead>\n",
              "  <tbody>\n",
              "    <tr>\n",
              "      <th>5</th>\n",
              "      <td>6</td>\n",
              "      <td>2018/02/03</td>\n",
              "      <td>Placebo</td>\n",
              "      <td>1958/09/08</td>\n",
              "      <td>F</td>\n",
              "      <td>N</td>\n",
              "      <td>Y</td>\n",
              "      <td>N</td>\n",
              "      <td>0.8</td>\n",
              "      <td>3.98</td>\n",
              "      <td>50.0</td>\n",
              "      <td>944.0</td>\n",
              "      <td>93.00</td>\n",
              "      <td>63.0</td>\n",
              "      <td>NaN</td>\n",
              "      <td>11.0</td>\n",
              "      <td>stage_3</td>\n",
              "    </tr>\n",
              "    <tr>\n",
              "      <th>57</th>\n",
              "      <td>58</td>\n",
              "      <td>2012/09/26</td>\n",
              "      <td>D-penicillamine</td>\n",
              "      <td>1980/05/17</td>\n",
              "      <td>M</td>\n",
              "      <td>N</td>\n",
              "      <td>N</td>\n",
              "      <td>N</td>\n",
              "      <td>0.7</td>\n",
              "      <td>4.08</td>\n",
              "      <td>73.0</td>\n",
              "      <td>5890.0</td>\n",
              "      <td>56.76</td>\n",
              "      <td>118.0</td>\n",
              "      <td>NaN</td>\n",
              "      <td>10.6</td>\n",
              "      <td>Stage 1</td>\n",
              "    </tr>\n",
              "    <tr>\n",
              "      <th>125</th>\n",
              "      <td>126</td>\n",
              "      <td>2022/09/09</td>\n",
              "      <td>D-penicillamine</td>\n",
              "      <td>1971/05/07</td>\n",
              "      <td>F</td>\n",
              "      <td>Y</td>\n",
              "      <td>Y</td>\n",
              "      <td>N</td>\n",
              "      <td>1.2</td>\n",
              "      <td>3.12</td>\n",
              "      <td>NaN</td>\n",
              "      <td>1441.0</td>\n",
              "      <td>165.85</td>\n",
              "      <td>68.0</td>\n",
              "      <td>166.0</td>\n",
              "      <td>11.1</td>\n",
              "      <td>Stage4</td>\n",
              "    </tr>\n",
              "    <tr>\n",
              "      <th>128</th>\n",
              "      <td>129</td>\n",
              "      <td>2016/01/29</td>\n",
              "      <td>D-penicillamine</td>\n",
              "      <td>1961/05/01</td>\n",
              "      <td>F</td>\n",
              "      <td>N</td>\n",
              "      <td>Y</td>\n",
              "      <td>N</td>\n",
              "      <td>0.9</td>\n",
              "      <td>3.87</td>\n",
              "      <td>30.0</td>\n",
              "      <td>1009.0</td>\n",
              "      <td>57.35</td>\n",
              "      <td>232.0</td>\n",
              "      <td>NaN</td>\n",
              "      <td>9.7</td>\n",
              "      <td>stage_3</td>\n",
              "    </tr>\n",
              "    <tr>\n",
              "      <th>167</th>\n",
              "      <td>168</td>\n",
              "      <td>2017/07/08</td>\n",
              "      <td>Placebo</td>\n",
              "      <td>1977/03/11</td>\n",
              "      <td>F</td>\n",
              "      <td>N</td>\n",
              "      <td>Y</td>\n",
              "      <td>N</td>\n",
              "      <td>0.4</td>\n",
              "      <td>3.80</td>\n",
              "      <td>44.0</td>\n",
              "      <td>842.0</td>\n",
              "      <td>97.65</td>\n",
              "      <td>110.0</td>\n",
              "      <td>NaN</td>\n",
              "      <td>9.2</td>\n",
              "      <td>Stage 2</td>\n",
              "    </tr>\n",
              "    <tr>\n",
              "      <th>...</th>\n",
              "      <td>...</td>\n",
              "      <td>...</td>\n",
              "      <td>...</td>\n",
              "      <td>...</td>\n",
              "      <td>...</td>\n",
              "      <td>...</td>\n",
              "      <td>...</td>\n",
              "      <td>...</td>\n",
              "      <td>...</td>\n",
              "      <td>...</td>\n",
              "      <td>...</td>\n",
              "      <td>...</td>\n",
              "      <td>...</td>\n",
              "      <td>...</td>\n",
              "      <td>...</td>\n",
              "      <td>...</td>\n",
              "      <td>...</td>\n",
              "    </tr>\n",
              "    <tr>\n",
              "      <th>413</th>\n",
              "      <td>414</td>\n",
              "      <td>2023/01/30</td>\n",
              "      <td>NaN</td>\n",
              "      <td>1957/12/11</td>\n",
              "      <td>F</td>\n",
              "      <td>NaN</td>\n",
              "      <td>NaN</td>\n",
              "      <td>N</td>\n",
              "      <td>1.2</td>\n",
              "      <td>2.96</td>\n",
              "      <td>NaN</td>\n",
              "      <td>NaN</td>\n",
              "      <td>NaN</td>\n",
              "      <td>-1.0</td>\n",
              "      <td>174.0</td>\n",
              "      <td>10.9</td>\n",
              "      <td>stage_3</td>\n",
              "    </tr>\n",
              "    <tr>\n",
              "      <th>414</th>\n",
              "      <td>415</td>\n",
              "      <td>2021/12/04</td>\n",
              "      <td>NaN</td>\n",
              "      <td>1985/12/11</td>\n",
              "      <td>F</td>\n",
              "      <td>NaN</td>\n",
              "      <td>NaN</td>\n",
              "      <td>N</td>\n",
              "      <td>0.9</td>\n",
              "      <td>3.83</td>\n",
              "      <td>NaN</td>\n",
              "      <td>NaN</td>\n",
              "      <td>NaN</td>\n",
              "      <td>-1.0</td>\n",
              "      <td>180.0</td>\n",
              "      <td>11.2</td>\n",
              "      <td>Stage4</td>\n",
              "    </tr>\n",
              "    <tr>\n",
              "      <th>415</th>\n",
              "      <td>416</td>\n",
              "      <td>2022/01/21</td>\n",
              "      <td>NaN</td>\n",
              "      <td>1967/12/12</td>\n",
              "      <td>F</td>\n",
              "      <td>NaN</td>\n",
              "      <td>NaN</td>\n",
              "      <td>N</td>\n",
              "      <td>1.6</td>\n",
              "      <td>3.42</td>\n",
              "      <td>NaN</td>\n",
              "      <td>NaN</td>\n",
              "      <td>NaN</td>\n",
              "      <td>-1.0</td>\n",
              "      <td>143.0</td>\n",
              "      <td>9.9</td>\n",
              "      <td>stage_3</td>\n",
              "    </tr>\n",
              "    <tr>\n",
              "      <th>416</th>\n",
              "      <td>417</td>\n",
              "      <td>2023/01/20</td>\n",
              "      <td>NaN</td>\n",
              "      <td>1966/12/11</td>\n",
              "      <td>F</td>\n",
              "      <td>NaN</td>\n",
              "      <td>NaN</td>\n",
              "      <td>N</td>\n",
              "      <td>0.8</td>\n",
              "      <td>3.75</td>\n",
              "      <td>NaN</td>\n",
              "      <td>NaN</td>\n",
              "      <td>NaN</td>\n",
              "      <td>-1.0</td>\n",
              "      <td>269.0</td>\n",
              "      <td>10.4</td>\n",
              "      <td>stage_3</td>\n",
              "    </tr>\n",
              "    <tr>\n",
              "      <th>417</th>\n",
              "      <td>418</td>\n",
              "      <td>2022/04/10</td>\n",
              "      <td>NaN</td>\n",
              "      <td>1971/12/12</td>\n",
              "      <td>F</td>\n",
              "      <td>NaN</td>\n",
              "      <td>NaN</td>\n",
              "      <td>N</td>\n",
              "      <td>0.7</td>\n",
              "      <td>3.29</td>\n",
              "      <td>NaN</td>\n",
              "      <td>NaN</td>\n",
              "      <td>NaN</td>\n",
              "      <td>-1.0</td>\n",
              "      <td>350.0</td>\n",
              "      <td>10.6</td>\n",
              "      <td>Stage4</td>\n",
              "    </tr>\n",
              "  </tbody>\n",
              "</table>\n",
              "<p>106 rows × 17 columns</p>\n",
              "</div>\n",
              "    <div class=\"colab-df-buttons\">\n",
              "      \n",
              "  <div class=\"colab-df-container\">\n",
              "    <button class=\"colab-df-convert\" onclick=\"convertToInteractive('df-08c06d52-b5a0-41ee-856e-89631a8e62c5')\"\n",
              "            title=\"Convert this dataframe to an interactive table.\"\n",
              "            style=\"display:none;\">\n",
              "      \n",
              "  <svg xmlns=\"http://www.w3.org/2000/svg\" height=\"24px\" viewBox=\"0 -960 960 960\">\n",
              "    <path d=\"M120-120v-720h720v720H120Zm60-500h600v-160H180v160Zm220 220h160v-160H400v160Zm0 220h160v-160H400v160ZM180-400h160v-160H180v160Zm440 0h160v-160H620v160ZM180-180h160v-160H180v160Zm440 0h160v-160H620v160Z\"/>\n",
              "  </svg>\n",
              "    </button>\n",
              "    \n",
              "  <style>\n",
              "    .colab-df-container {\n",
              "      display:flex;\n",
              "      gap: 12px;\n",
              "    }\n",
              "\n",
              "    .colab-df-convert {\n",
              "      background-color: #E8F0FE;\n",
              "      border: none;\n",
              "      border-radius: 50%;\n",
              "      cursor: pointer;\n",
              "      display: none;\n",
              "      fill: #1967D2;\n",
              "      height: 32px;\n",
              "      padding: 0 0 0 0;\n",
              "      width: 32px;\n",
              "    }\n",
              "\n",
              "    .colab-df-convert:hover {\n",
              "      background-color: #E2EBFA;\n",
              "      box-shadow: 0px 1px 2px rgba(60, 64, 67, 0.3), 0px 1px 3px 1px rgba(60, 64, 67, 0.15);\n",
              "      fill: #174EA6;\n",
              "    }\n",
              "\n",
              "    .colab-df-buttons div {\n",
              "      margin-bottom: 4px;\n",
              "    }\n",
              "\n",
              "    [theme=dark] .colab-df-convert {\n",
              "      background-color: #3B4455;\n",
              "      fill: #D2E3FC;\n",
              "    }\n",
              "\n",
              "    [theme=dark] .colab-df-convert:hover {\n",
              "      background-color: #434B5C;\n",
              "      box-shadow: 0px 1px 3px 1px rgba(0, 0, 0, 0.15);\n",
              "      filter: drop-shadow(0px 1px 2px rgba(0, 0, 0, 0.3));\n",
              "      fill: #FFFFFF;\n",
              "    }\n",
              "  </style>\n",
              "\n",
              "    <script>\n",
              "      const buttonEl =\n",
              "        document.querySelector('#df-08c06d52-b5a0-41ee-856e-89631a8e62c5 button.colab-df-convert');\n",
              "      buttonEl.style.display =\n",
              "        google.colab.kernel.accessAllowed ? 'block' : 'none';\n",
              "\n",
              "      async function convertToInteractive(key) {\n",
              "        const element = document.querySelector('#df-08c06d52-b5a0-41ee-856e-89631a8e62c5');\n",
              "        const dataTable =\n",
              "          await google.colab.kernel.invokeFunction('convertToInteractive',\n",
              "                                                    [key], {});\n",
              "        if (!dataTable) return;\n",
              "\n",
              "        const docLinkHtml = 'Like what you see? Visit the ' +\n",
              "          '<a target=\"_blank\" href=https://colab.research.google.com/notebooks/data_table.ipynb>data table notebook</a>'\n",
              "          + ' to learn more about interactive tables.';\n",
              "        element.innerHTML = '';\n",
              "        dataTable['output_type'] = 'display_data';\n",
              "        await google.colab.output.renderOutput(dataTable, element);\n",
              "        const docLink = document.createElement('div');\n",
              "        docLink.innerHTML = docLinkHtml;\n",
              "        element.appendChild(docLink);\n",
              "      }\n",
              "    </script>\n",
              "  </div>\n",
              "  \n",
              "    </div>\n",
              "  </div>\n",
              "  "
            ],
            "text/plain": [
              "      ID Registration Date             Drug  Birth Date Gender Ascites  \\\n",
              "5      6        2018/02/03          Placebo  1958/09/08      F       N   \n",
              "57    58        2012/09/26  D-penicillamine  1980/05/17      M       N   \n",
              "125  126        2022/09/09  D-penicillamine  1971/05/07      F       Y   \n",
              "128  129        2016/01/29  D-penicillamine  1961/05/01      F       N   \n",
              "167  168        2017/07/08          Placebo  1977/03/11      F       N   \n",
              "..   ...               ...              ...         ...    ...     ...   \n",
              "413  414        2023/01/30              NaN  1957/12/11      F     NaN   \n",
              "414  415        2021/12/04              NaN  1985/12/11      F     NaN   \n",
              "415  416        2022/01/21              NaN  1967/12/12      F     NaN   \n",
              "416  417        2023/01/20              NaN  1966/12/11      F     NaN   \n",
              "417  418        2022/04/10              NaN  1971/12/12      F     NaN   \n",
              "\n",
              "    Hepatomegaly Edema  Bilirubin  Albumin  Copper  Alkaline Phospatase (U/L)  \\\n",
              "5              Y     N        0.8     3.98    50.0                      944.0   \n",
              "57             N     N        0.7     4.08    73.0                     5890.0   \n",
              "125            Y     N        1.2     3.12     NaN                     1441.0   \n",
              "128            Y     N        0.9     3.87    30.0                     1009.0   \n",
              "167            Y     N        0.4     3.80    44.0                      842.0   \n",
              "..           ...   ...        ...      ...     ...                        ...   \n",
              "413          NaN     N        1.2     2.96     NaN                        NaN   \n",
              "414          NaN     N        0.9     3.83     NaN                        NaN   \n",
              "415          NaN     N        1.6     3.42     NaN                        NaN   \n",
              "416          NaN     N        0.8     3.75     NaN                        NaN   \n",
              "417          NaN     N        0.7     3.29     NaN                        NaN   \n",
              "\n",
              "       SGOT  Tryglicerides  Platelets  Prothrombin    Stage  \n",
              "5     93.00           63.0        NaN         11.0  stage_3  \n",
              "57    56.76          118.0        NaN         10.6  Stage 1  \n",
              "125  165.85           68.0      166.0         11.1   Stage4  \n",
              "128   57.35          232.0        NaN          9.7  stage_3  \n",
              "167   97.65          110.0        NaN          9.2  Stage 2  \n",
              "..      ...            ...        ...          ...      ...  \n",
              "413     NaN           -1.0      174.0         10.9  stage_3  \n",
              "414     NaN           -1.0      180.0         11.2   Stage4  \n",
              "415     NaN           -1.0      143.0          9.9  stage_3  \n",
              "416     NaN           -1.0      269.0         10.4  stage_3  \n",
              "417     NaN           -1.0      350.0         10.6   Stage4  \n",
              "\n",
              "[106 rows x 17 columns]"
            ]
          },
          "execution_count": 9,
          "metadata": {},
          "output_type": "execute_result"
        }
      ],
      "source": [
        "data[data.isna().any(axis=1)]"
      ]
    },
    {
      "cell_type": "markdown",
      "metadata": {
        "id": "oG8NfBMHxoQS"
      },
      "source": [
        "There are a many cases where 'Ascites', 'Hepatomegaly', 'Copper', 'Alkaline Phospatase (U/L)', 'SGOT' are all NA's in the same row. They might represent tests or conditions not performed or recorded for certain patients.\n",
        "\n",
        "Since 'Ascites', 'Hepatomegaly', 'Copper', 'Alkaline Phosphatase (U/L)', 'SGOT', and 'Platelets' are closely related to cirrhosis, I decided to delete the rows with missing values. Imputing these missing values could distort the analysis."
      ]
    },
    {
      "cell_type": "code",
      "execution_count": null,
      "metadata": {
        "colab": {
          "base_uri": "https://localhost:8080/"
        },
        "id": "D0Mif6ecvfcp",
        "outputId": "a08d1d51-a45a-4ecf-cfd5-fd72c3277fc4"
      },
      "outputs": [
        {
          "data": {
            "text/plain": [
              "0"
            ]
          },
          "execution_count": 10,
          "metadata": {},
          "output_type": "execute_result"
        }
      ],
      "source": [
        "data = data.dropna() # drop rows with missing value\n",
        "data.isna().any().sum()"
      ]
    },
    {
      "cell_type": "markdown",
      "metadata": {
        "id": "IRog17qFze09"
      },
      "source": [
        "Data is clean."
      ]
    },
    {
      "cell_type": "markdown",
      "metadata": {
        "id": "M2q-Q7-4mip5"
      },
      "source": [
        "### Handling Duplicate Values"
      ]
    },
    {
      "cell_type": "code",
      "execution_count": null,
      "metadata": {
        "colab": {
          "base_uri": "https://localhost:8080/"
        },
        "id": "6BIwsjEszjzS",
        "outputId": "81d2ba3e-cc16-487b-b293-f99e2bb91517"
      },
      "outputs": [
        {
          "data": {
            "text/plain": [
              "0"
            ]
          },
          "execution_count": 11,
          "metadata": {},
          "output_type": "execute_result"
        }
      ],
      "source": [
        "# DROP DUPLICATES\n",
        "data = data.drop_duplicates()\n",
        "data.duplicated().sum()"
      ]
    },
    {
      "cell_type": "markdown",
      "metadata": {
        "id": "oVRky_um2xEO"
      },
      "source": [
        "### Finding Unique Values"
      ]
    },
    {
      "cell_type": "code",
      "execution_count": null,
      "metadata": {
        "colab": {
          "base_uri": "https://localhost:8080/",
          "height": 617
        },
        "id": "KNabGGTq07N9",
        "outputId": "ff630cab-f415-41f5-f427-0672fe1d8cee"
      },
      "outputs": [
        {
          "data": {
            "text/html": [
              "<div>\n",
              "<style scoped>\n",
              "    .dataframe tbody tr th:only-of-type {\n",
              "        vertical-align: middle;\n",
              "    }\n",
              "\n",
              "    .dataframe tbody tr th {\n",
              "        vertical-align: top;\n",
              "    }\n",
              "\n",
              "    .dataframe thead th {\n",
              "        text-align: right;\n",
              "    }\n",
              "</style>\n",
              "<table border=\"1\" class=\"dataframe\">\n",
              "  <thead>\n",
              "    <tr style=\"text-align: right;\">\n",
              "      <th></th>\n",
              "      <th>0</th>\n",
              "    </tr>\n",
              "  </thead>\n",
              "  <tbody>\n",
              "    <tr>\n",
              "      <th>ID</th>\n",
              "      <td>306</td>\n",
              "    </tr>\n",
              "    <tr>\n",
              "      <th>Registration Date</th>\n",
              "      <td>295</td>\n",
              "    </tr>\n",
              "    <tr>\n",
              "      <th>Drug</th>\n",
              "      <td>5</td>\n",
              "    </tr>\n",
              "    <tr>\n",
              "      <th>Birth Date</th>\n",
              "      <td>303</td>\n",
              "    </tr>\n",
              "    <tr>\n",
              "      <th>Gender</th>\n",
              "      <td>2</td>\n",
              "    </tr>\n",
              "    <tr>\n",
              "      <th>Ascites</th>\n",
              "      <td>2</td>\n",
              "    </tr>\n",
              "    <tr>\n",
              "      <th>Hepatomegaly</th>\n",
              "      <td>2</td>\n",
              "    </tr>\n",
              "    <tr>\n",
              "      <th>Edema</th>\n",
              "      <td>3</td>\n",
              "    </tr>\n",
              "    <tr>\n",
              "      <th>Bilirubin</th>\n",
              "      <td>85</td>\n",
              "    </tr>\n",
              "    <tr>\n",
              "      <th>Albumin</th>\n",
              "      <td>135</td>\n",
              "    </tr>\n",
              "    <tr>\n",
              "      <th>Copper</th>\n",
              "      <td>157</td>\n",
              "    </tr>\n",
              "    <tr>\n",
              "      <th>Alkaline Phospatase (U/L)</th>\n",
              "      <td>291</td>\n",
              "    </tr>\n",
              "    <tr>\n",
              "      <th>SGOT</th>\n",
              "      <td>179</td>\n",
              "    </tr>\n",
              "    <tr>\n",
              "      <th>Tryglicerides</th>\n",
              "      <td>144</td>\n",
              "    </tr>\n",
              "    <tr>\n",
              "      <th>Platelets</th>\n",
              "      <td>210</td>\n",
              "    </tr>\n",
              "    <tr>\n",
              "      <th>Prothrombin</th>\n",
              "      <td>43</td>\n",
              "    </tr>\n",
              "    <tr>\n",
              "      <th>Stage</th>\n",
              "      <td>4</td>\n",
              "    </tr>\n",
              "  </tbody>\n",
              "</table>\n",
              "</div><br><label><b>dtype:</b> int64</label>"
            ],
            "text/plain": [
              "ID                           306\n",
              "Registration Date            295\n",
              "Drug                           5\n",
              "Birth Date                   303\n",
              "Gender                         2\n",
              "Ascites                        2\n",
              "Hepatomegaly                   2\n",
              "Edema                          3\n",
              "Bilirubin                     85\n",
              "Albumin                      135\n",
              "Copper                       157\n",
              "Alkaline Phospatase (U/L)    291\n",
              "SGOT                         179\n",
              "Tryglicerides                144\n",
              "Platelets                    210\n",
              "Prothrombin                   43\n",
              "Stage                          4\n",
              "dtype: int64"
            ]
          },
          "execution_count": 12,
          "metadata": {},
          "output_type": "execute_result"
        }
      ],
      "source": [
        "data.nunique()"
      ]
    },
    {
      "cell_type": "markdown",
      "metadata": {
        "id": "kbtQQPSd2702"
      },
      "source": [
        "'ID' and 'Registration Date' contains high amount of unique data, we should drop the column"
      ]
    },
    {
      "cell_type": "code",
      "execution_count": null,
      "metadata": {
        "colab": {
          "base_uri": "https://localhost:8080/",
          "height": 206
        },
        "id": "1OWGOra-2_vJ",
        "outputId": "a2cd323c-5b94-48d1-8027-7b7572630320"
      },
      "outputs": [
        {
          "data": {
            "text/html": [
              "\n",
              "  <div id=\"df-65589ef3-e2e1-4488-8df3-51fcf7d5f140\" class=\"colab-df-container\">\n",
              "    <div>\n",
              "<style scoped>\n",
              "    .dataframe tbody tr th:only-of-type {\n",
              "        vertical-align: middle;\n",
              "    }\n",
              "\n",
              "    .dataframe tbody tr th {\n",
              "        vertical-align: top;\n",
              "    }\n",
              "\n",
              "    .dataframe thead th {\n",
              "        text-align: right;\n",
              "    }\n",
              "</style>\n",
              "<table border=\"1\" class=\"dataframe\">\n",
              "  <thead>\n",
              "    <tr style=\"text-align: right;\">\n",
              "      <th></th>\n",
              "      <th>Drug</th>\n",
              "      <th>Birth Date</th>\n",
              "      <th>Gender</th>\n",
              "      <th>Ascites</th>\n",
              "      <th>Hepatomegaly</th>\n",
              "      <th>Edema</th>\n",
              "      <th>Bilirubin</th>\n",
              "      <th>Albumin</th>\n",
              "      <th>Copper</th>\n",
              "      <th>Alkaline Phospatase (U/L)</th>\n",
              "      <th>SGOT</th>\n",
              "      <th>Tryglicerides</th>\n",
              "      <th>Platelets</th>\n",
              "      <th>Prothrombin</th>\n",
              "      <th>Stage</th>\n",
              "    </tr>\n",
              "  </thead>\n",
              "  <tbody>\n",
              "    <tr>\n",
              "      <th>0</th>\n",
              "      <td>D-penicillamine</td>\n",
              "      <td>1966/03/07</td>\n",
              "      <td>F</td>\n",
              "      <td>Y</td>\n",
              "      <td>Y</td>\n",
              "      <td>Y</td>\n",
              "      <td>14.5</td>\n",
              "      <td>2.60</td>\n",
              "      <td>156.0</td>\n",
              "      <td>1718.0</td>\n",
              "      <td>137.95</td>\n",
              "      <td>172.0</td>\n",
              "      <td>190.0</td>\n",
              "      <td>12.2</td>\n",
              "      <td>Stage4</td>\n",
              "    </tr>\n",
              "    <tr>\n",
              "      <th>1</th>\n",
              "      <td>D-penicillamine</td>\n",
              "      <td>1968/07/01</td>\n",
              "      <td>F</td>\n",
              "      <td>N</td>\n",
              "      <td>Y</td>\n",
              "      <td>N</td>\n",
              "      <td>1.1</td>\n",
              "      <td>4.14</td>\n",
              "      <td>54.0</td>\n",
              "      <td>7394.8</td>\n",
              "      <td>113.52</td>\n",
              "      <td>88.0</td>\n",
              "      <td>221.0</td>\n",
              "      <td>10.6</td>\n",
              "      <td>stage_3</td>\n",
              "    </tr>\n",
              "    <tr>\n",
              "      <th>2</th>\n",
              "      <td>D-penicillamine</td>\n",
              "      <td>1954/11/15</td>\n",
              "      <td>M</td>\n",
              "      <td>N</td>\n",
              "      <td>N</td>\n",
              "      <td>S</td>\n",
              "      <td>1.4</td>\n",
              "      <td>3.48</td>\n",
              "      <td>210.0</td>\n",
              "      <td>516.0</td>\n",
              "      <td>96.10</td>\n",
              "      <td>55.0</td>\n",
              "      <td>151.0</td>\n",
              "      <td>12.0</td>\n",
              "      <td>Stage4</td>\n",
              "    </tr>\n",
              "    <tr>\n",
              "      <th>3</th>\n",
              "      <td>D-penicillamine</td>\n",
              "      <td>1970/03/16</td>\n",
              "      <td>F</td>\n",
              "      <td>N</td>\n",
              "      <td>Y</td>\n",
              "      <td>S</td>\n",
              "      <td>1.8</td>\n",
              "      <td>2.54</td>\n",
              "      <td>64.0</td>\n",
              "      <td>6121.8</td>\n",
              "      <td>60.63</td>\n",
              "      <td>92.0</td>\n",
              "      <td>183.0</td>\n",
              "      <td>10.3</td>\n",
              "      <td>Stage4</td>\n",
              "    </tr>\n",
              "    <tr>\n",
              "      <th>4</th>\n",
              "      <td>Placebo</td>\n",
              "      <td>1986/11/03</td>\n",
              "      <td>F</td>\n",
              "      <td>N</td>\n",
              "      <td>Y</td>\n",
              "      <td>N</td>\n",
              "      <td>3.4</td>\n",
              "      <td>3.53</td>\n",
              "      <td>143.0</td>\n",
              "      <td>671.0</td>\n",
              "      <td>113.15</td>\n",
              "      <td>72.0</td>\n",
              "      <td>136.0</td>\n",
              "      <td>10.9</td>\n",
              "      <td>stage_3</td>\n",
              "    </tr>\n",
              "  </tbody>\n",
              "</table>\n",
              "</div>\n",
              "    <div class=\"colab-df-buttons\">\n",
              "      \n",
              "  <div class=\"colab-df-container\">\n",
              "    <button class=\"colab-df-convert\" onclick=\"convertToInteractive('df-65589ef3-e2e1-4488-8df3-51fcf7d5f140')\"\n",
              "            title=\"Convert this dataframe to an interactive table.\"\n",
              "            style=\"display:none;\">\n",
              "      \n",
              "  <svg xmlns=\"http://www.w3.org/2000/svg\" height=\"24px\" viewBox=\"0 -960 960 960\">\n",
              "    <path d=\"M120-120v-720h720v720H120Zm60-500h600v-160H180v160Zm220 220h160v-160H400v160Zm0 220h160v-160H400v160ZM180-400h160v-160H180v160Zm440 0h160v-160H620v160ZM180-180h160v-160H180v160Zm440 0h160v-160H620v160Z\"/>\n",
              "  </svg>\n",
              "    </button>\n",
              "    \n",
              "  <style>\n",
              "    .colab-df-container {\n",
              "      display:flex;\n",
              "      gap: 12px;\n",
              "    }\n",
              "\n",
              "    .colab-df-convert {\n",
              "      background-color: #E8F0FE;\n",
              "      border: none;\n",
              "      border-radius: 50%;\n",
              "      cursor: pointer;\n",
              "      display: none;\n",
              "      fill: #1967D2;\n",
              "      height: 32px;\n",
              "      padding: 0 0 0 0;\n",
              "      width: 32px;\n",
              "    }\n",
              "\n",
              "    .colab-df-convert:hover {\n",
              "      background-color: #E2EBFA;\n",
              "      box-shadow: 0px 1px 2px rgba(60, 64, 67, 0.3), 0px 1px 3px 1px rgba(60, 64, 67, 0.15);\n",
              "      fill: #174EA6;\n",
              "    }\n",
              "\n",
              "    .colab-df-buttons div {\n",
              "      margin-bottom: 4px;\n",
              "    }\n",
              "\n",
              "    [theme=dark] .colab-df-convert {\n",
              "      background-color: #3B4455;\n",
              "      fill: #D2E3FC;\n",
              "    }\n",
              "\n",
              "    [theme=dark] .colab-df-convert:hover {\n",
              "      background-color: #434B5C;\n",
              "      box-shadow: 0px 1px 3px 1px rgba(0, 0, 0, 0.15);\n",
              "      filter: drop-shadow(0px 1px 2px rgba(0, 0, 0, 0.3));\n",
              "      fill: #FFFFFF;\n",
              "    }\n",
              "  </style>\n",
              "\n",
              "    <script>\n",
              "      const buttonEl =\n",
              "        document.querySelector('#df-65589ef3-e2e1-4488-8df3-51fcf7d5f140 button.colab-df-convert');\n",
              "      buttonEl.style.display =\n",
              "        google.colab.kernel.accessAllowed ? 'block' : 'none';\n",
              "\n",
              "      async function convertToInteractive(key) {\n",
              "        const element = document.querySelector('#df-65589ef3-e2e1-4488-8df3-51fcf7d5f140');\n",
              "        const dataTable =\n",
              "          await google.colab.kernel.invokeFunction('convertToInteractive',\n",
              "                                                    [key], {});\n",
              "        if (!dataTable) return;\n",
              "\n",
              "        const docLinkHtml = 'Like what you see? Visit the ' +\n",
              "          '<a target=\"_blank\" href=https://colab.research.google.com/notebooks/data_table.ipynb>data table notebook</a>'\n",
              "          + ' to learn more about interactive tables.';\n",
              "        element.innerHTML = '';\n",
              "        dataTable['output_type'] = 'display_data';\n",
              "        await google.colab.output.renderOutput(dataTable, element);\n",
              "        const docLink = document.createElement('div');\n",
              "        docLink.innerHTML = docLinkHtml;\n",
              "        element.appendChild(docLink);\n",
              "      }\n",
              "    </script>\n",
              "  </div>\n",
              "  \n",
              "    </div>\n",
              "  </div>\n",
              "  "
            ],
            "text/plain": [
              "              Drug  Birth Date Gender Ascites Hepatomegaly Edema  Bilirubin  \\\n",
              "0  D-penicillamine  1966/03/07      F       Y            Y     Y       14.5   \n",
              "1  D-penicillamine  1968/07/01      F       N            Y     N        1.1   \n",
              "2  D-penicillamine  1954/11/15      M       N            N     S        1.4   \n",
              "3  D-penicillamine  1970/03/16      F       N            Y     S        1.8   \n",
              "4          Placebo  1986/11/03      F       N            Y     N        3.4   \n",
              "\n",
              "   Albumin  Copper  Alkaline Phospatase (U/L)    SGOT  Tryglicerides  \\\n",
              "0     2.60   156.0                     1718.0  137.95          172.0   \n",
              "1     4.14    54.0                     7394.8  113.52           88.0   \n",
              "2     3.48   210.0                      516.0   96.10           55.0   \n",
              "3     2.54    64.0                     6121.8   60.63           92.0   \n",
              "4     3.53   143.0                      671.0  113.15           72.0   \n",
              "\n",
              "   Platelets  Prothrombin    Stage  \n",
              "0      190.0         12.2   Stage4  \n",
              "1      221.0         10.6  stage_3  \n",
              "2      151.0         12.0   Stage4  \n",
              "3      183.0         10.3   Stage4  \n",
              "4      136.0         10.9  stage_3  "
            ]
          },
          "execution_count": 13,
          "metadata": {},
          "output_type": "execute_result"
        }
      ],
      "source": [
        "data = data.drop(['ID', 'Registration Date'], axis=1)\n",
        "data.head()"
      ]
    },
    {
      "cell_type": "code",
      "execution_count": null,
      "metadata": {
        "colab": {
          "base_uri": "https://localhost:8080/"
        },
        "id": "zAJLXJOw0obz",
        "outputId": "3cfb1470-6740-47db-f2e4-2cdc809ba1c7"
      },
      "outputs": [
        {
          "name": "stdout",
          "output_type": "stream",
          "text": [
            "<class 'pandas.core.frame.DataFrame'>\n",
            "Index: 306 entries, 0 to 311\n",
            "Data columns (total 15 columns):\n",
            " #   Column                     Non-Null Count  Dtype  \n",
            "---  ------                     --------------  -----  \n",
            " 0   Drug                       306 non-null    object \n",
            " 1   Birth Date                 306 non-null    object \n",
            " 2   Gender                     306 non-null    object \n",
            " 3   Ascites                    306 non-null    object \n",
            " 4   Hepatomegaly               306 non-null    object \n",
            " 5   Edema                      306 non-null    object \n",
            " 6   Bilirubin                  306 non-null    float64\n",
            " 7   Albumin                    306 non-null    float64\n",
            " 8   Copper                     306 non-null    float64\n",
            " 9   Alkaline Phospatase (U/L)  306 non-null    float64\n",
            " 10  SGOT                       306 non-null    float64\n",
            " 11  Tryglicerides              306 non-null    float64\n",
            " 12  Platelets                  306 non-null    float64\n",
            " 13  Prothrombin                306 non-null    float64\n",
            " 14  Stage                      306 non-null    object \n",
            "dtypes: float64(8), object(7)\n",
            "memory usage: 38.2+ KB\n"
          ]
        }
      ],
      "source": [
        "data.info()"
      ]
    },
    {
      "cell_type": "markdown",
      "metadata": {
        "id": "7pnwe-4a0s8c"
      },
      "source": [
        "The final dataset consists of 15 columns and 306 rows."
      ]
    },
    {
      "cell_type": "markdown",
      "metadata": {
        "id": "r1J_nH0K9szE"
      },
      "source": [
        "### Feature Engineer Column 'Birth Date'\n",
        "Instead of birth date, it would be easier to analysize with age."
      ]
    },
    {
      "cell_type": "code",
      "execution_count": null,
      "metadata": {
        "colab": {
          "base_uri": "https://localhost:8080/",
          "height": 206
        },
        "id": "xRDHoXIu7Q9r",
        "outputId": "dc148d11-675e-4085-c810-e17accee1bd2"
      },
      "outputs": [
        {
          "data": {
            "text/html": [
              "\n",
              "  <div id=\"df-03d7edca-6352-4613-882e-402a66c21f56\" class=\"colab-df-container\">\n",
              "    <div>\n",
              "<style scoped>\n",
              "    .dataframe tbody tr th:only-of-type {\n",
              "        vertical-align: middle;\n",
              "    }\n",
              "\n",
              "    .dataframe tbody tr th {\n",
              "        vertical-align: top;\n",
              "    }\n",
              "\n",
              "    .dataframe thead th {\n",
              "        text-align: right;\n",
              "    }\n",
              "</style>\n",
              "<table border=\"1\" class=\"dataframe\">\n",
              "  <thead>\n",
              "    <tr style=\"text-align: right;\">\n",
              "      <th></th>\n",
              "      <th>Drug</th>\n",
              "      <th>Birth Date</th>\n",
              "      <th>Gender</th>\n",
              "      <th>Ascites</th>\n",
              "      <th>Hepatomegaly</th>\n",
              "      <th>Edema</th>\n",
              "      <th>Bilirubin</th>\n",
              "      <th>Albumin</th>\n",
              "      <th>Copper</th>\n",
              "      <th>Alkaline Phospatase (U/L)</th>\n",
              "      <th>SGOT</th>\n",
              "      <th>Tryglicerides</th>\n",
              "      <th>Platelets</th>\n",
              "      <th>Prothrombin</th>\n",
              "      <th>Stage</th>\n",
              "      <th>Age</th>\n",
              "    </tr>\n",
              "  </thead>\n",
              "  <tbody>\n",
              "    <tr>\n",
              "      <th>0</th>\n",
              "      <td>D-penicillamine</td>\n",
              "      <td>1966-03-07</td>\n",
              "      <td>F</td>\n",
              "      <td>Y</td>\n",
              "      <td>Y</td>\n",
              "      <td>Y</td>\n",
              "      <td>14.5</td>\n",
              "      <td>2.60</td>\n",
              "      <td>156.0</td>\n",
              "      <td>1718.0</td>\n",
              "      <td>137.95</td>\n",
              "      <td>172.0</td>\n",
              "      <td>190.0</td>\n",
              "      <td>12.2</td>\n",
              "      <td>Stage4</td>\n",
              "      <td>58</td>\n",
              "    </tr>\n",
              "    <tr>\n",
              "      <th>1</th>\n",
              "      <td>D-penicillamine</td>\n",
              "      <td>1968-07-01</td>\n",
              "      <td>F</td>\n",
              "      <td>N</td>\n",
              "      <td>Y</td>\n",
              "      <td>N</td>\n",
              "      <td>1.1</td>\n",
              "      <td>4.14</td>\n",
              "      <td>54.0</td>\n",
              "      <td>7394.8</td>\n",
              "      <td>113.52</td>\n",
              "      <td>88.0</td>\n",
              "      <td>221.0</td>\n",
              "      <td>10.6</td>\n",
              "      <td>stage_3</td>\n",
              "      <td>56</td>\n",
              "    </tr>\n",
              "    <tr>\n",
              "      <th>2</th>\n",
              "      <td>D-penicillamine</td>\n",
              "      <td>1954-11-15</td>\n",
              "      <td>M</td>\n",
              "      <td>N</td>\n",
              "      <td>N</td>\n",
              "      <td>S</td>\n",
              "      <td>1.4</td>\n",
              "      <td>3.48</td>\n",
              "      <td>210.0</td>\n",
              "      <td>516.0</td>\n",
              "      <td>96.10</td>\n",
              "      <td>55.0</td>\n",
              "      <td>151.0</td>\n",
              "      <td>12.0</td>\n",
              "      <td>Stage4</td>\n",
              "      <td>70</td>\n",
              "    </tr>\n",
              "    <tr>\n",
              "      <th>3</th>\n",
              "      <td>D-penicillamine</td>\n",
              "      <td>1970-03-16</td>\n",
              "      <td>F</td>\n",
              "      <td>N</td>\n",
              "      <td>Y</td>\n",
              "      <td>S</td>\n",
              "      <td>1.8</td>\n",
              "      <td>2.54</td>\n",
              "      <td>64.0</td>\n",
              "      <td>6121.8</td>\n",
              "      <td>60.63</td>\n",
              "      <td>92.0</td>\n",
              "      <td>183.0</td>\n",
              "      <td>10.3</td>\n",
              "      <td>Stage4</td>\n",
              "      <td>54</td>\n",
              "    </tr>\n",
              "    <tr>\n",
              "      <th>4</th>\n",
              "      <td>Placebo</td>\n",
              "      <td>1986-11-03</td>\n",
              "      <td>F</td>\n",
              "      <td>N</td>\n",
              "      <td>Y</td>\n",
              "      <td>N</td>\n",
              "      <td>3.4</td>\n",
              "      <td>3.53</td>\n",
              "      <td>143.0</td>\n",
              "      <td>671.0</td>\n",
              "      <td>113.15</td>\n",
              "      <td>72.0</td>\n",
              "      <td>136.0</td>\n",
              "      <td>10.9</td>\n",
              "      <td>stage_3</td>\n",
              "      <td>38</td>\n",
              "    </tr>\n",
              "  </tbody>\n",
              "</table>\n",
              "</div>\n",
              "    <div class=\"colab-df-buttons\">\n",
              "      \n",
              "  <div class=\"colab-df-container\">\n",
              "    <button class=\"colab-df-convert\" onclick=\"convertToInteractive('df-03d7edca-6352-4613-882e-402a66c21f56')\"\n",
              "            title=\"Convert this dataframe to an interactive table.\"\n",
              "            style=\"display:none;\">\n",
              "      \n",
              "  <svg xmlns=\"http://www.w3.org/2000/svg\" height=\"24px\" viewBox=\"0 -960 960 960\">\n",
              "    <path d=\"M120-120v-720h720v720H120Zm60-500h600v-160H180v160Zm220 220h160v-160H400v160Zm0 220h160v-160H400v160ZM180-400h160v-160H180v160Zm440 0h160v-160H620v160ZM180-180h160v-160H180v160Zm440 0h160v-160H620v160Z\"/>\n",
              "  </svg>\n",
              "    </button>\n",
              "    \n",
              "  <style>\n",
              "    .colab-df-container {\n",
              "      display:flex;\n",
              "      gap: 12px;\n",
              "    }\n",
              "\n",
              "    .colab-df-convert {\n",
              "      background-color: #E8F0FE;\n",
              "      border: none;\n",
              "      border-radius: 50%;\n",
              "      cursor: pointer;\n",
              "      display: none;\n",
              "      fill: #1967D2;\n",
              "      height: 32px;\n",
              "      padding: 0 0 0 0;\n",
              "      width: 32px;\n",
              "    }\n",
              "\n",
              "    .colab-df-convert:hover {\n",
              "      background-color: #E2EBFA;\n",
              "      box-shadow: 0px 1px 2px rgba(60, 64, 67, 0.3), 0px 1px 3px 1px rgba(60, 64, 67, 0.15);\n",
              "      fill: #174EA6;\n",
              "    }\n",
              "\n",
              "    .colab-df-buttons div {\n",
              "      margin-bottom: 4px;\n",
              "    }\n",
              "\n",
              "    [theme=dark] .colab-df-convert {\n",
              "      background-color: #3B4455;\n",
              "      fill: #D2E3FC;\n",
              "    }\n",
              "\n",
              "    [theme=dark] .colab-df-convert:hover {\n",
              "      background-color: #434B5C;\n",
              "      box-shadow: 0px 1px 3px 1px rgba(0, 0, 0, 0.15);\n",
              "      filter: drop-shadow(0px 1px 2px rgba(0, 0, 0, 0.3));\n",
              "      fill: #FFFFFF;\n",
              "    }\n",
              "  </style>\n",
              "\n",
              "    <script>\n",
              "      const buttonEl =\n",
              "        document.querySelector('#df-03d7edca-6352-4613-882e-402a66c21f56 button.colab-df-convert');\n",
              "      buttonEl.style.display =\n",
              "        google.colab.kernel.accessAllowed ? 'block' : 'none';\n",
              "\n",
              "      async function convertToInteractive(key) {\n",
              "        const element = document.querySelector('#df-03d7edca-6352-4613-882e-402a66c21f56');\n",
              "        const dataTable =\n",
              "          await google.colab.kernel.invokeFunction('convertToInteractive',\n",
              "                                                    [key], {});\n",
              "        if (!dataTable) return;\n",
              "\n",
              "        const docLinkHtml = 'Like what you see? Visit the ' +\n",
              "          '<a target=\"_blank\" href=https://colab.research.google.com/notebooks/data_table.ipynb>data table notebook</a>'\n",
              "          + ' to learn more about interactive tables.';\n",
              "        element.innerHTML = '';\n",
              "        dataTable['output_type'] = 'display_data';\n",
              "        await google.colab.output.renderOutput(dataTable, element);\n",
              "        const docLink = document.createElement('div');\n",
              "        docLink.innerHTML = docLinkHtml;\n",
              "        element.appendChild(docLink);\n",
              "      }\n",
              "    </script>\n",
              "  </div>\n",
              "  \n",
              "    </div>\n",
              "  </div>\n",
              "  "
            ],
            "text/plain": [
              "              Drug Birth Date Gender Ascites Hepatomegaly Edema  Bilirubin  \\\n",
              "0  D-penicillamine 1966-03-07      F       Y            Y     Y       14.5   \n",
              "1  D-penicillamine 1968-07-01      F       N            Y     N        1.1   \n",
              "2  D-penicillamine 1954-11-15      M       N            N     S        1.4   \n",
              "3  D-penicillamine 1970-03-16      F       N            Y     S        1.8   \n",
              "4          Placebo 1986-11-03      F       N            Y     N        3.4   \n",
              "\n",
              "   Albumin  Copper  Alkaline Phospatase (U/L)    SGOT  Tryglicerides  \\\n",
              "0     2.60   156.0                     1718.0  137.95          172.0   \n",
              "1     4.14    54.0                     7394.8  113.52           88.0   \n",
              "2     3.48   210.0                      516.0   96.10           55.0   \n",
              "3     2.54    64.0                     6121.8   60.63           92.0   \n",
              "4     3.53   143.0                      671.0  113.15           72.0   \n",
              "\n",
              "   Platelets  Prothrombin    Stage  Age  \n",
              "0      190.0         12.2   Stage4   58  \n",
              "1      221.0         10.6  stage_3   56  \n",
              "2      151.0         12.0   Stage4   70  \n",
              "3      183.0         10.3   Stage4   54  \n",
              "4      136.0         10.9  stage_3   38  "
            ]
          },
          "execution_count": 15,
          "metadata": {},
          "output_type": "execute_result"
        }
      ],
      "source": [
        "# Convert 'Birthdate' column to datetime\n",
        "data['Birth Date'] = pd.to_datetime(data['Birth Date'], format='%Y/%m/%d')\n",
        "\n",
        "# Function to calculate age\n",
        "def calculate_age(birthdate):\n",
        "    current_date = pd.to_datetime('today')\n",
        "    age = current_date.year - birthdate.year\n",
        "\n",
        "    if (current_date.month < birthdate.month) or (current_date.month == birthdate.month and current_date.day < birthdate.day):\n",
        "        age -= 1\n",
        "    return age\n",
        "\n",
        "data['Age'] = data['Birth Date'].apply(calculate_age)\n",
        "data.head()"
      ]
    },
    {
      "cell_type": "code",
      "execution_count": null,
      "metadata": {
        "colab": {
          "base_uri": "https://localhost:8080/",
          "height": 206
        },
        "id": "HaDiqgFfA5Eh",
        "outputId": "b9611fd5-509d-47de-bd90-49142a87952b"
      },
      "outputs": [
        {
          "data": {
            "text/html": [
              "\n",
              "  <div id=\"df-c963c37c-6611-4ee2-b694-a9a166898147\" class=\"colab-df-container\">\n",
              "    <div>\n",
              "<style scoped>\n",
              "    .dataframe tbody tr th:only-of-type {\n",
              "        vertical-align: middle;\n",
              "    }\n",
              "\n",
              "    .dataframe tbody tr th {\n",
              "        vertical-align: top;\n",
              "    }\n",
              "\n",
              "    .dataframe thead th {\n",
              "        text-align: right;\n",
              "    }\n",
              "</style>\n",
              "<table border=\"1\" class=\"dataframe\">\n",
              "  <thead>\n",
              "    <tr style=\"text-align: right;\">\n",
              "      <th></th>\n",
              "      <th>Drug</th>\n",
              "      <th>Gender</th>\n",
              "      <th>Ascites</th>\n",
              "      <th>Hepatomegaly</th>\n",
              "      <th>Edema</th>\n",
              "      <th>Bilirubin</th>\n",
              "      <th>Albumin</th>\n",
              "      <th>Copper</th>\n",
              "      <th>Alkaline Phospatase (U/L)</th>\n",
              "      <th>SGOT</th>\n",
              "      <th>Tryglicerides</th>\n",
              "      <th>Platelets</th>\n",
              "      <th>Prothrombin</th>\n",
              "      <th>Stage</th>\n",
              "      <th>Age</th>\n",
              "    </tr>\n",
              "  </thead>\n",
              "  <tbody>\n",
              "    <tr>\n",
              "      <th>0</th>\n",
              "      <td>D-penicillamine</td>\n",
              "      <td>F</td>\n",
              "      <td>Y</td>\n",
              "      <td>Y</td>\n",
              "      <td>Y</td>\n",
              "      <td>14.5</td>\n",
              "      <td>2.60</td>\n",
              "      <td>156.0</td>\n",
              "      <td>1718.0</td>\n",
              "      <td>137.95</td>\n",
              "      <td>172.0</td>\n",
              "      <td>190.0</td>\n",
              "      <td>12.2</td>\n",
              "      <td>Stage4</td>\n",
              "      <td>58</td>\n",
              "    </tr>\n",
              "    <tr>\n",
              "      <th>1</th>\n",
              "      <td>D-penicillamine</td>\n",
              "      <td>F</td>\n",
              "      <td>N</td>\n",
              "      <td>Y</td>\n",
              "      <td>N</td>\n",
              "      <td>1.1</td>\n",
              "      <td>4.14</td>\n",
              "      <td>54.0</td>\n",
              "      <td>7394.8</td>\n",
              "      <td>113.52</td>\n",
              "      <td>88.0</td>\n",
              "      <td>221.0</td>\n",
              "      <td>10.6</td>\n",
              "      <td>stage_3</td>\n",
              "      <td>56</td>\n",
              "    </tr>\n",
              "    <tr>\n",
              "      <th>2</th>\n",
              "      <td>D-penicillamine</td>\n",
              "      <td>M</td>\n",
              "      <td>N</td>\n",
              "      <td>N</td>\n",
              "      <td>S</td>\n",
              "      <td>1.4</td>\n",
              "      <td>3.48</td>\n",
              "      <td>210.0</td>\n",
              "      <td>516.0</td>\n",
              "      <td>96.10</td>\n",
              "      <td>55.0</td>\n",
              "      <td>151.0</td>\n",
              "      <td>12.0</td>\n",
              "      <td>Stage4</td>\n",
              "      <td>70</td>\n",
              "    </tr>\n",
              "    <tr>\n",
              "      <th>3</th>\n",
              "      <td>D-penicillamine</td>\n",
              "      <td>F</td>\n",
              "      <td>N</td>\n",
              "      <td>Y</td>\n",
              "      <td>S</td>\n",
              "      <td>1.8</td>\n",
              "      <td>2.54</td>\n",
              "      <td>64.0</td>\n",
              "      <td>6121.8</td>\n",
              "      <td>60.63</td>\n",
              "      <td>92.0</td>\n",
              "      <td>183.0</td>\n",
              "      <td>10.3</td>\n",
              "      <td>Stage4</td>\n",
              "      <td>54</td>\n",
              "    </tr>\n",
              "    <tr>\n",
              "      <th>4</th>\n",
              "      <td>Placebo</td>\n",
              "      <td>F</td>\n",
              "      <td>N</td>\n",
              "      <td>Y</td>\n",
              "      <td>N</td>\n",
              "      <td>3.4</td>\n",
              "      <td>3.53</td>\n",
              "      <td>143.0</td>\n",
              "      <td>671.0</td>\n",
              "      <td>113.15</td>\n",
              "      <td>72.0</td>\n",
              "      <td>136.0</td>\n",
              "      <td>10.9</td>\n",
              "      <td>stage_3</td>\n",
              "      <td>38</td>\n",
              "    </tr>\n",
              "  </tbody>\n",
              "</table>\n",
              "</div>\n",
              "    <div class=\"colab-df-buttons\">\n",
              "      \n",
              "  <div class=\"colab-df-container\">\n",
              "    <button class=\"colab-df-convert\" onclick=\"convertToInteractive('df-c963c37c-6611-4ee2-b694-a9a166898147')\"\n",
              "            title=\"Convert this dataframe to an interactive table.\"\n",
              "            style=\"display:none;\">\n",
              "      \n",
              "  <svg xmlns=\"http://www.w3.org/2000/svg\" height=\"24px\" viewBox=\"0 -960 960 960\">\n",
              "    <path d=\"M120-120v-720h720v720H120Zm60-500h600v-160H180v160Zm220 220h160v-160H400v160Zm0 220h160v-160H400v160ZM180-400h160v-160H180v160Zm440 0h160v-160H620v160ZM180-180h160v-160H180v160Zm440 0h160v-160H620v160Z\"/>\n",
              "  </svg>\n",
              "    </button>\n",
              "    \n",
              "  <style>\n",
              "    .colab-df-container {\n",
              "      display:flex;\n",
              "      gap: 12px;\n",
              "    }\n",
              "\n",
              "    .colab-df-convert {\n",
              "      background-color: #E8F0FE;\n",
              "      border: none;\n",
              "      border-radius: 50%;\n",
              "      cursor: pointer;\n",
              "      display: none;\n",
              "      fill: #1967D2;\n",
              "      height: 32px;\n",
              "      padding: 0 0 0 0;\n",
              "      width: 32px;\n",
              "    }\n",
              "\n",
              "    .colab-df-convert:hover {\n",
              "      background-color: #E2EBFA;\n",
              "      box-shadow: 0px 1px 2px rgba(60, 64, 67, 0.3), 0px 1px 3px 1px rgba(60, 64, 67, 0.15);\n",
              "      fill: #174EA6;\n",
              "    }\n",
              "\n",
              "    .colab-df-buttons div {\n",
              "      margin-bottom: 4px;\n",
              "    }\n",
              "\n",
              "    [theme=dark] .colab-df-convert {\n",
              "      background-color: #3B4455;\n",
              "      fill: #D2E3FC;\n",
              "    }\n",
              "\n",
              "    [theme=dark] .colab-df-convert:hover {\n",
              "      background-color: #434B5C;\n",
              "      box-shadow: 0px 1px 3px 1px rgba(0, 0, 0, 0.15);\n",
              "      filter: drop-shadow(0px 1px 2px rgba(0, 0, 0, 0.3));\n",
              "      fill: #FFFFFF;\n",
              "    }\n",
              "  </style>\n",
              "\n",
              "    <script>\n",
              "      const buttonEl =\n",
              "        document.querySelector('#df-c963c37c-6611-4ee2-b694-a9a166898147 button.colab-df-convert');\n",
              "      buttonEl.style.display =\n",
              "        google.colab.kernel.accessAllowed ? 'block' : 'none';\n",
              "\n",
              "      async function convertToInteractive(key) {\n",
              "        const element = document.querySelector('#df-c963c37c-6611-4ee2-b694-a9a166898147');\n",
              "        const dataTable =\n",
              "          await google.colab.kernel.invokeFunction('convertToInteractive',\n",
              "                                                    [key], {});\n",
              "        if (!dataTable) return;\n",
              "\n",
              "        const docLinkHtml = 'Like what you see? Visit the ' +\n",
              "          '<a target=\"_blank\" href=https://colab.research.google.com/notebooks/data_table.ipynb>data table notebook</a>'\n",
              "          + ' to learn more about interactive tables.';\n",
              "        element.innerHTML = '';\n",
              "        dataTable['output_type'] = 'display_data';\n",
              "        await google.colab.output.renderOutput(dataTable, element);\n",
              "        const docLink = document.createElement('div');\n",
              "        docLink.innerHTML = docLinkHtml;\n",
              "        element.appendChild(docLink);\n",
              "      }\n",
              "    </script>\n",
              "  </div>\n",
              "  \n",
              "    </div>\n",
              "  </div>\n",
              "  "
            ],
            "text/plain": [
              "              Drug Gender Ascites Hepatomegaly Edema  Bilirubin  Albumin  \\\n",
              "0  D-penicillamine      F       Y            Y     Y       14.5     2.60   \n",
              "1  D-penicillamine      F       N            Y     N        1.1     4.14   \n",
              "2  D-penicillamine      M       N            N     S        1.4     3.48   \n",
              "3  D-penicillamine      F       N            Y     S        1.8     2.54   \n",
              "4          Placebo      F       N            Y     N        3.4     3.53   \n",
              "\n",
              "   Copper  Alkaline Phospatase (U/L)    SGOT  Tryglicerides  Platelets  \\\n",
              "0   156.0                     1718.0  137.95          172.0      190.0   \n",
              "1    54.0                     7394.8  113.52           88.0      221.0   \n",
              "2   210.0                      516.0   96.10           55.0      151.0   \n",
              "3    64.0                     6121.8   60.63           92.0      183.0   \n",
              "4   143.0                      671.0  113.15           72.0      136.0   \n",
              "\n",
              "   Prothrombin    Stage  Age  \n",
              "0         12.2   Stage4   58  \n",
              "1         10.6  stage_3   56  \n",
              "2         12.0   Stage4   70  \n",
              "3         10.3   Stage4   54  \n",
              "4         10.9  stage_3   38  "
            ]
          },
          "execution_count": 16,
          "metadata": {},
          "output_type": "execute_result"
        }
      ],
      "source": [
        "# Drop column 'Birth Date'\n",
        "data = data.drop('Birth Date', axis=1)\n",
        "data.head()"
      ]
    },
    {
      "cell_type": "markdown",
      "metadata": {
        "id": "v8r3-FJ1dA06"
      },
      "source": [
        "Column 'Birth Date' is removed and a new column 'Age' is added."
      ]
    },
    {
      "cell_type": "markdown",
      "metadata": {
        "id": "z0bEnfHK4sDB"
      },
      "source": [
        "### Numeric Distribution\n"
      ]
    },
    {
      "cell_type": "code",
      "execution_count": null,
      "metadata": {
        "colab": {
          "base_uri": "https://localhost:8080/",
          "height": 1000
        },
        "id": "tMlPUTWs4q6P",
        "outputId": "137e266d-b316-450a-d983-8ab3af1c10e7"
      },
      "outputs": [
        {
          "data": {
            "image/png": "[encoded data removed]",
            "text/plain": [
              "<Figure size 640x480 with 2 Axes>"
            ]
          },
          "metadata": {},
          "output_type": "display_data"
        },
        {
          "name": "stdout",
          "output_type": "stream",
          "text": [
            "Skewness:  2.817540214492091\n",
            "Kurtosis:  8.680667490516994\n"
          ]
        },
        {
          "data": {
            "image/png": "[encoded data removed]",
            "text/plain": [
              "<Figure size 640x480 with 2 Axes>"
            ]
          },
          "metadata": {},
          "output_type": "display_data"
        },
        {
          "name": "stdout",
          "output_type": "stream",
          "text": [
            "Skewness:  -0.5782674450898165\n",
            "Kurtosis:  0.9638761384912069\n"
          ]
        },
        {
          "data": {
            "image/png": "[encoded data removed]",
            "text/plain": [
              "<Figure size 640x480 with 2 Axes>"
            ]
          },
          "metadata": {},
          "output_type": "display_data"
        },
        {
          "name": "stdout",
          "output_type": "stream",
          "text": [
            "Skewness:  2.2856431823652814\n",
            "Kurtosis:  7.515563507128517\n"
          ]
        },
        {
          "data": {
            "image/png": "[encoded data removed]",
            "text/plain": [
              "<Figure size 640x480 with 2 Axes>"
            ]
          },
          "metadata": {},
          "output_type": "display_data"
        },
        {
          "name": "stdout",
          "output_type": "stream",
          "text": [
            "Skewness:  3.005139813159215\n",
            "Kurtosis:  9.723126571888724\n"
          ]
        },
        {
          "data": {
            "image/png": "[encoded data removed]",
            "text/plain": [
              "<Figure size 640x480 with 2 Axes>"
            ]
          },
          "metadata": {},
          "output_type": "display_data"
        },
        {
          "name": "stdout",
          "output_type": "stream",
          "text": [
            "Skewness:  1.4474186250483927\n",
            "Kurtosis:  4.289812936450611\n"
          ]
        },
        {
          "data": {
            "image/png": "[encoded data removed]",
            "text/plain": [
              "<Figure size 640x480 with 2 Axes>"
            ]
          },
          "metadata": {},
          "output_type": "display_data"
        },
        {
          "name": "stdout",
          "output_type": "stream",
          "text": [
            "Skewness:  1.673768524651463\n",
            "Kurtosis:  7.7356324734000665\n"
          ]
        },
        {
          "data": {
            "image/png": "[encoded data removed]",
            "text/plain": [
              "<Figure size 640x480 with 2 Axes>"
            ]
          },
          "metadata": {},
          "output_type": "display_data"
        },
        {
          "name": "stdout",
          "output_type": "stream",
          "text": [
            "Skewness:  0.3734854844035126\n",
            "Kurtosis:  -0.005941626677032907\n"
          ]
        },
        {
          "data": {
            "image/png": "[encoded data removed]",
            "text/plain": [
              "<Figure size 640x480 with 2 Axes>"
            ]
          },
          "metadata": {},
          "output_type": "display_data"
        },
        {
          "name": "stdout",
          "output_type": "stream",
          "text": [
            "Skewness:  1.7392944630320002\n",
            "Kurtosis:  6.018483343031384\n"
          ]
        },
        {
          "data": {
            "image/png": "[encoded data removed]",
            "text/plain": [
              "<Figure size 640x480 with 2 Axes>"
            ]
          },
          "metadata": {},
          "output_type": "display_data"
        },
        {
          "name": "stdout",
          "output_type": "stream",
          "text": [
            "Skewness:  0.1744082615846146\n",
            "Kurtosis:  -0.5159317765592006\n"
          ]
        }
      ],
      "source": [
        "numerical_cols = data.select_dtypes(include=['number']).columns\n",
        "\n",
        "for i in numerical_cols:\n",
        "  plt.subplot(1,2,1)\n",
        "  sns.histplot(data[i], bins = 30)\n",
        "  plt.title(f\"Histogram and Boxplot of {i}\")\n",
        "\n",
        "  plt.subplot(1,2,2)\n",
        "  sns.boxplot(data[i])\n",
        "  plt.tight_layout()\n",
        "  plt.show()\n",
        "  print(\"Skewness: \", data[i].skew())\n",
        "  print(\"Kurtosis: \", data[i].kurt())"
      ]
    },
    {
      "cell_type": "code",
      "execution_count": null,
      "metadata": {
        "colab": {
          "base_uri": "https://localhost:8080/"
        },
        "id": "X7JlOt7pB15f",
        "outputId": "3dbbe32c-4c8e-4190-c3b3-f225a9eaf3d3"
      },
      "outputs": [
        {
          "name": "stdout",
          "output_type": "stream",
          "text": [
            "Bilirubin: ShapiroResult(statistic=0.6260729010311376, pvalue=2.651784631728777e-25)\n",
            "Albumin: ShapiroResult(statistic=0.9797778235186683, pvalue=0.00025741803714511384)\n",
            "Copper: ShapiroResult(statistic=0.7900237787922918, pvalue=1.463429754493277e-19)\n",
            "Alkaline Phospatase (U/L): ShapiroResult(statistic=0.6123021951338488, pvalue=1.0898395204675184e-25)\n",
            "SGOT: ShapiroResult(statistic=0.9120212343291327, pvalue=2.1411575836744633e-12)\n",
            "Tryglicerides: ShapiroResult(statistic=0.8889099488770487, pvalue=3.843630049820408e-14)\n",
            "Platelets: ShapiroResult(statistic=0.9880042168947346, pvalue=0.012354922069453503)\n",
            "Prothrombin: ShapiroResult(statistic=0.8831713614020146, pvalue=1.552008405912485e-14)\n",
            "Age: ShapiroResult(statistic=0.9891027031347964, pvalue=0.021678498024431784)\n"
          ]
        }
      ],
      "source": [
        "from scipy.stats import shapiro\n",
        "\n",
        "for i in numerical_cols:\n",
        "  print(f'{i}:', shapiro(data[i]))"
      ]
    },
    {
      "cell_type": "markdown",
      "metadata": {
        "id": "pTKt0TD247N-"
      },
      "source": [
        "All of the variables tested have p-values below 0.05, they are not normal distributed.\n",
        "\n",
        "Since none of the numeric columns have a normal distribution and contain outliers, we will use Robust Scaling.\n",
        "\n",
        "*Note* : outliers are not deleted because this dataset is about medical data and extreme values are clinically possible."
      ]
    },
    {
      "cell_type": "markdown",
      "metadata": {
        "id": "5QR5Q6NF6IKL"
      },
      "source": [
        "### Categorical Distribution"
      ]
    },
    {
      "cell_type": "code",
      "execution_count": null,
      "metadata": {
        "colab": {
          "base_uri": "https://localhost:8080/"
        },
        "id": "0zQ8kPFR56I_",
        "outputId": "14a47ee6-8842-4d87-dddc-e295508d615a"
      },
      "outputs": [
        {
          "name": "stdout",
          "output_type": "stream",
          "text": [
            "Drug\n",
            "D-penicillamine    152\n",
            "Placebo            149\n",
            "d-penicillamine      3\n",
            "placebo              1\n",
            "lacebo               1\n",
            "Name: count, dtype: int64\n",
            "---------------------\n",
            "Gender\n",
            "F    271\n",
            "M     35\n",
            "Name: count, dtype: int64\n",
            "---------------------\n",
            "Ascites\n",
            "N    283\n",
            "Y     23\n",
            "Name: count, dtype: int64\n",
            "---------------------\n",
            "Hepatomegaly\n",
            "Y    156\n",
            "N    150\n",
            "Name: count, dtype: int64\n",
            "---------------------\n",
            "Edema\n",
            "N    258\n",
            "S     28\n",
            "Y     20\n",
            "Name: count, dtype: int64\n",
            "---------------------\n",
            "Stage\n",
            "stage_3    118\n",
            "Stage4     108\n",
            "Stage 2     65\n",
            "Stage 1     15\n",
            "Name: count, dtype: int64\n",
            "---------------------\n"
          ]
        }
      ],
      "source": [
        "categorical_cols = data.select_dtypes(include=['object', 'category']).columns\n",
        "\n",
        "for col in categorical_cols:\n",
        "  print(data[col].value_counts())\n",
        "  print(\"---------------------\")"
      ]
    },
    {
      "cell_type": "markdown",
      "metadata": {
        "id": "X9BYRSwldI3O"
      },
      "source": [
        "There are a few typos and inconsistent naming, which will be handled in the next part. Also, the distribution of stages is not evenly spread, so we will decide between undersampling or oversampling later."
      ]
    },
    {
      "cell_type": "markdown",
      "metadata": {
        "id": "PzSdXdu6SxXx"
      },
      "source": [
        "### Handling Data Typo"
      ]
    },
    {
      "cell_type": "code",
      "execution_count": null,
      "metadata": {
        "colab": {
          "base_uri": "https://localhost:8080/",
          "height": 178
        },
        "id": "nF2nKSCRSuPX",
        "outputId": "1af79e5a-6c15-4015-c965-b63ec2c1f475"
      },
      "outputs": [
        {
          "data": {
            "text/html": [
              "<div>\n",
              "<style scoped>\n",
              "    .dataframe tbody tr th:only-of-type {\n",
              "        vertical-align: middle;\n",
              "    }\n",
              "\n",
              "    .dataframe tbody tr th {\n",
              "        vertical-align: top;\n",
              "    }\n",
              "\n",
              "    .dataframe thead th {\n",
              "        text-align: right;\n",
              "    }\n",
              "</style>\n",
              "<table border=\"1\" class=\"dataframe\">\n",
              "  <thead>\n",
              "    <tr style=\"text-align: right;\">\n",
              "      <th></th>\n",
              "      <th>count</th>\n",
              "    </tr>\n",
              "    <tr>\n",
              "      <th>Drug</th>\n",
              "      <th></th>\n",
              "    </tr>\n",
              "  </thead>\n",
              "  <tbody>\n",
              "    <tr>\n",
              "      <th>D-penicillamine</th>\n",
              "      <td>155</td>\n",
              "    </tr>\n",
              "    <tr>\n",
              "      <th>Placebo</th>\n",
              "      <td>151</td>\n",
              "    </tr>\n",
              "  </tbody>\n",
              "</table>\n",
              "</div><br><label><b>dtype:</b> int64</label>"
            ],
            "text/plain": [
              "Drug\n",
              "D-penicillamine    155\n",
              "Placebo            151\n",
              "Name: count, dtype: int64"
            ]
          },
          "execution_count": 20,
          "metadata": {},
          "output_type": "execute_result"
        }
      ],
      "source": [
        "data['Drug'] = data['Drug'].replace({'d-penicillamine' : 'D-penicillamine', 'placebo' : 'Placebo', 'lacebo' : 'Placebo'})\n",
        "data['Drug'].value_counts()"
      ]
    },
    {
      "cell_type": "code",
      "execution_count": null,
      "metadata": {
        "colab": {
          "base_uri": "https://localhost:8080/",
          "height": 241
        },
        "id": "mIa79BAETs2n",
        "outputId": "e67d0de3-bd53-494b-a0e2-7872f7763ab1"
      },
      "outputs": [
        {
          "data": {
            "text/html": [
              "<div>\n",
              "<style scoped>\n",
              "    .dataframe tbody tr th:only-of-type {\n",
              "        vertical-align: middle;\n",
              "    }\n",
              "\n",
              "    .dataframe tbody tr th {\n",
              "        vertical-align: top;\n",
              "    }\n",
              "\n",
              "    .dataframe thead th {\n",
              "        text-align: right;\n",
              "    }\n",
              "</style>\n",
              "<table border=\"1\" class=\"dataframe\">\n",
              "  <thead>\n",
              "    <tr style=\"text-align: right;\">\n",
              "      <th></th>\n",
              "      <th>count</th>\n",
              "    </tr>\n",
              "    <tr>\n",
              "      <th>Stage</th>\n",
              "      <th></th>\n",
              "    </tr>\n",
              "  </thead>\n",
              "  <tbody>\n",
              "    <tr>\n",
              "      <th>Stage 3</th>\n",
              "      <td>118</td>\n",
              "    </tr>\n",
              "    <tr>\n",
              "      <th>Stage 4</th>\n",
              "      <td>108</td>\n",
              "    </tr>\n",
              "    <tr>\n",
              "      <th>Stage 2</th>\n",
              "      <td>65</td>\n",
              "    </tr>\n",
              "    <tr>\n",
              "      <th>Stage 1</th>\n",
              "      <td>15</td>\n",
              "    </tr>\n",
              "  </tbody>\n",
              "</table>\n",
              "</div><br><label><b>dtype:</b> int64</label>"
            ],
            "text/plain": [
              "Stage\n",
              "Stage 3    118\n",
              "Stage 4    108\n",
              "Stage 2     65\n",
              "Stage 1     15\n",
              "Name: count, dtype: int64"
            ]
          },
          "execution_count": 21,
          "metadata": {},
          "output_type": "execute_result"
        }
      ],
      "source": [
        "data['Stage'] = data['Stage'].replace({'stage_3' : 'Stage 3', 'Stage4' : 'Stage 4'})\n",
        "data['Stage'].value_counts()"
      ]
    },
    {
      "cell_type": "markdown",
      "metadata": {
        "id": "RuiPMliRPb91"
      },
      "source": [
        "### Multivariate"
      ]
    },
    {
      "cell_type": "code",
      "execution_count": null,
      "metadata": {
        "colab": {
          "base_uri": "https://localhost:8080/",
          "height": 472
        },
        "id": "Tkkg9DbXP8a_",
        "outputId": "bb4e10bc-444e-4c28-ddd2-8cf780e64d81"
      },
      "outputs": [
        {
          "data": {
            "image/png": "[encoded data removed]",
            "text/plain": [
              "<Figure size 640x480 with 1 Axes>"
            ]
          },
          "metadata": {},
          "output_type": "display_data"
        }
      ],
      "source": [
        "# DRUG VS STAGE\n",
        "\n",
        "colors = {'Stage 1': '#FFCC80','Stage 2': '#FFB74D', 'Stage 3': '#FF8A65', 'Stage 4': '#FD6947'}\n",
        "\n",
        "sns.countplot(x = 'Drug', hue = 'Stage', data = data, palette = colors)\n",
        "plt.title(\"Drug vs Stage\")\n",
        "plt.grid(axis = \"y\", alpha = 0.3, linestyle = \"--\")\n",
        "plt.show()"
      ]
    },
    {
      "cell_type": "markdown",
      "metadata": {
        "id": "mYU3HsyTeMeK"
      },
      "source": [
        "Stages 1 and 2 are mainly treated with D-penicillamine, while Stage 3 has a higher proportion of patients in the Placebo group. In contrast, Stage 4 seems to be evenly distributed between the two drug groups."
      ]
    },
    {
      "cell_type": "code",
      "execution_count": null,
      "metadata": {
        "colab": {
          "base_uri": "https://localhost:8080/",
          "height": 472
        },
        "id": "3YLHY05eXW28",
        "outputId": "a685facd-db85-4799-ea9b-941710ce47b8"
      },
      "outputs": [
        {
          "data": {
            "image/png": "[encoded data removed]",
            "text/plain": [
              "<Figure size 640x480 with 1 Axes>"
            ]
          },
          "metadata": {},
          "output_type": "display_data"
        }
      ],
      "source": [
        "# GENDER VS STAGE\n",
        "colors = {'Stage 1': '#FFCC80','Stage 2': '#FFB74D', 'Stage 3': '#FF8A65', 'Stage 4': '#FD6947'}\n",
        "\n",
        "sns.countplot(x = 'Gender', hue = 'Stage', data = data, palette = colors)\n",
        "plt.title(\"Gender vs Stage\")\n",
        "plt.xticks(ticks=['F', 'M'], labels=['Female', 'Male'])\n",
        "\n",
        "plt.grid(axis = \"y\", alpha = 0.3, linestyle = \"--\")\n",
        "plt.show()"
      ]
    },
    {
      "cell_type": "markdown",
      "metadata": {
        "id": "l7ZffUcFenD1"
      },
      "source": [
        "Most of Cirrhosis patient is Female."
      ]
    },
    {
      "cell_type": "code",
      "execution_count": null,
      "metadata": {
        "colab": {
          "base_uri": "https://localhost:8080/",
          "height": 472
        },
        "id": "pq2lnbrsXkpG",
        "outputId": "59f5c42b-55f4-4bc5-d46f-28275a9f1a61"
      },
      "outputs": [
        {
          "data": {
            "image/png": "[encoded data removed]",
            "text/plain": [
              "<Figure size 640x480 with 1 Axes>"
            ]
          },
          "metadata": {},
          "output_type": "display_data"
        }
      ],
      "source": [
        "# ASCITES VS STAGE\n",
        "colors = {'Stage 1': '#FFCC80','Stage 2': '#FFB74D', 'Stage 3': '#FF8A65', 'Stage 4': '#FD6947'}\n",
        "\n",
        "sns.countplot(x = 'Ascites', hue = 'Stage', data = data, palette = colors)\n",
        "plt.title(\"Ascites vs Stage\")\n",
        "plt.xticks(ticks=['N', 'Y'], labels=['No', 'Yes'])\n",
        "\n",
        "plt.grid(axis = \"y\", alpha = 0.3, linestyle = \"--\")\n",
        "plt.show()"
      ]
    },
    {
      "cell_type": "markdown",
      "metadata": {
        "id": "yScQHRDce25G"
      },
      "source": [
        "Ascites is the medical term for the accumulation of fluid in the abdominal cavity (space between diaphragm) and most commonly linked to liver cirrhosis, but it can also result from other diseases. Surprisingly, most of the cases report no ascites."
      ]
    },
    {
      "cell_type": "code",
      "execution_count": null,
      "metadata": {
        "colab": {
          "base_uri": "https://localhost:8080/",
          "height": 472
        },
        "id": "r1Kkib7Ffcr-",
        "outputId": "71e7d8f9-b12f-4834-d463-2e29ec41a386"
      },
      "outputs": [
        {
          "data": {
            "image/png": "[encoded data removed]",
            "text/plain": [
              "<Figure size 640x480 with 1 Axes>"
            ]
          },
          "metadata": {},
          "output_type": "display_data"
        }
      ],
      "source": [
        "# HEPATOMEGALY VS STAGE\n",
        "colors = {'Stage 1': '#FFCC80','Stage 2': '#FFB74D', 'Stage 3': '#FF8A65', 'Stage 4': '#FD6947'}\n",
        "\n",
        "sns.countplot(x = 'Hepatomegaly', hue = 'Stage', data = data, palette = colors)\n",
        "plt.title(\"Hepatomegaly vs Stage\")\n",
        "plt.xticks(ticks=['N', 'Y'], labels=['No', 'Yes'])\n",
        "\n",
        "plt.grid(axis = \"y\", alpha = 0.3, linestyle = \"--\")\n",
        "plt.show()"
      ]
    },
    {
      "cell_type": "markdown",
      "metadata": {
        "id": "WNUu-CFwf2PM"
      },
      "source": [
        "Hepatomegaly is enlargement of the liver, which aligns with the plot showing that Stage 4 patients report the highest occurrence of 'Yes' in Hepatomegaly."
      ]
    },
    {
      "cell_type": "code",
      "execution_count": null,
      "metadata": {
        "colab": {
          "base_uri": "https://localhost:8080/",
          "height": 488
        },
        "id": "eKxqF-0YhOwg",
        "outputId": "cb793b35-6461-4612-97ad-e95a88f911e7"
      },
      "outputs": [
        {
          "data": {
            "image/png": "[encoded data removed]",
            "text/plain": [
              "<Figure size 640x480 with 1 Axes>"
            ]
          },
          "metadata": {},
          "output_type": "display_data"
        }
      ],
      "source": [
        "# EDEMA VS STAGE\n",
        "colors = {'Stage 1': '#FFCC80','Stage 2': '#FFB74D', 'Stage 3': '#FF8A65', 'Stage 4': '#FD6947'}\n",
        "\n",
        "sns.countplot(x = 'Edema', hue = 'Stage', data = data, palette = colors)\n",
        "plt.title(\"Edema vs Stage\")\n",
        "plt.xticks(ticks=['N', 'S', 'Y'], labels=['No Edema', 'Edema Without\\nDiuretics', 'Edema Despite\\nDiuretic Therapy'])\n",
        "\n",
        "plt.grid(axis = \"y\", alpha = 0.3, linestyle = \"--\")\n",
        "plt.show()"
      ]
    },
    {
      "cell_type": "markdown",
      "metadata": {
        "id": "OSJZzCSbhcg7"
      },
      "source": [
        "Most patients in the dataset show no signs of edema, suggesting that fluid retention is relatively uncommon in this population. It may indicate that the conditions or treatments involved do not typically lead to edema for the majority of patients."
      ]
    },
    {
      "cell_type": "code",
      "execution_count": null,
      "metadata": {
        "colab": {
          "base_uri": "https://localhost:8080/",
          "height": 1000
        },
        "id": "zjUcMlrHm_5D",
        "outputId": "1932811f-eb19-44af-dd80-a9b0ca1e021c"
      },
      "outputs": [
        {
          "data": {
            "image/png": "[encoded data removed]",
            "text/plain": [
              "<Figure size 1200x1500 with 9 Axes>"
            ]
          },
          "metadata": {},
          "output_type": "display_data"
        }
      ],
      "source": [
        "# NUMERIC COLUMNS VS STAGE\n",
        "plt.figure(figsize=(12, 15))\n",
        "\n",
        "for i, col in enumerate(numerical_cols, start=1):\n",
        "    plt.subplot(5, 2, i)\n",
        "    sns.boxplot(x = 'Stage', y = col, data = data)\n",
        "    plt.title(f\"{col} vs Stage\")\n",
        "    plt.grid(axis=\"y\", alpha=0.3, linestyle=\"--\")\n",
        "\n",
        "    plt.tight_layout()\n",
        "\n",
        "plt.show()"
      ]
    },
    {
      "cell_type": "markdown",
      "metadata": {
        "id": "5AYzip9umc95"
      },
      "source": [
        "- Bilirubin : The boxplot shows that Stage 4 has the highest median bilirubin level indicating a correlation between elevated bilirubin and disease progression stages.\n",
        "- Albumin : Albumin is a protein produced by the liver, and its levels in the blood are typically lower in people with liver disease, as shown in the plot.\n",
        "- Copper: The median value in Stage 1 is higher than in Stage 2, and it continues to rise, with Stage 4 having the highest median.\n",
        "- Alkaline Phosphatase: Stage 1 shows the lowest median, while Stages 2, 3, and 4 show similar median values.\n",
        "- SGOT: SGOT levels tend to increase with advancing stages of cirrhosis, though the difference between Stages 2, 3, and 4 is not significant.\n",
        "- Triglycerides: The highest median is observed in Stage 3.\n",
        "- Platelets: Stage 2 displays the highest median platelet count.\n",
        "- Prothrombin: Stage 1 has the lowest median, while Stages 2 and 3 have similar values. Stage 4 has the highest median.\n",
        "- Age: Stages 1, 2, and 3 have similar median ages, while Stage 4 features a higher median, with the majority of patients being older than 50.\n",
        "\n",
        "From all the visualization above, it appears that all columns have significant differences across stages. To confirm this, we will perform statistical testing using the Kruskal-Wallis test because the data is not normally distributed.\n",
        "\n",
        "### Kruskal"
      ]
    },
    {
      "cell_type": "code",
      "execution_count": null,
      "metadata": {
        "colab": {
          "base_uri": "https://localhost:8080/"
        },
        "id": "nnTgX8sOQ9cF",
        "outputId": "1562e922-2301-4d2e-bb0f-82f1597a5633"
      },
      "outputs": [
        {
          "name": "stdout",
          "output_type": "stream",
          "text": [
            "Bilirubin is significant\n",
            "Albumin is significant\n",
            "Copper is significant\n",
            "Alkaline Phospatase (U/L) is significant\n",
            "SGOT is significant\n",
            "Tryglicerides is significant\n",
            "Platelets is significant\n",
            "Prothrombin is significant\n",
            "Age is significant\n"
          ]
        }
      ],
      "source": [
        "from scipy.stats import kruskal\n",
        "\n",
        "\n",
        "def kruskal_test(data, numerical_cols):\n",
        "  for col in numerical_cols:\n",
        "    stat, p_value = kruskal(data[data['Stage'] == 'Stage 1'][col],\n",
        "                            data[data['Stage'] == 'Stage 2'][col],\n",
        "                            data[data['Stage'] == 'Stage 3'][col],\n",
        "                            data[data['Stage'] == 'Stage 4'][col])\n",
        "    if p_value < 0.05:\n",
        "      print(f\"{col} is significant\")\n",
        "    else:\n",
        "      print(f\"{col} is not significant\")\n",
        "\n",
        "kruskal_test(data, numerical_cols)\n"
      ]
    },
    {
      "cell_type": "markdown",
      "metadata": {
        "id": "_PuBUcf6sYsx"
      },
      "source": [
        "All columns are significant, so no columns will be dropped."
      ]
    },
    {
      "cell_type": "markdown",
      "metadata": {
        "id": "aM2LJGGdskdw"
      },
      "source": [
        "# B. Train a Random Forest and an XGBoost model"
      ]
    },
    {
      "cell_type": "markdown",
      "metadata": {
        "id": "7GuKGrWkaMzC"
      },
      "source": [
        "## Encode"
      ]
    },
    {
      "cell_type": "code",
      "execution_count": null,
      "metadata": {
        "colab": {
          "base_uri": "https://localhost:8080/"
        },
        "id": "zOrXlmKmsjnU",
        "outputId": "411e3aa7-56cc-442c-c95c-9e286bbe805b"
      },
      "outputs": [
        {
          "name": "stdout",
          "output_type": "stream",
          "text": [
            "Drug\n",
            "D-penicillamine    155\n",
            "Placebo            151\n",
            "Name: count, dtype: int64\n",
            "---------------------\n",
            "Gender\n",
            "F    271\n",
            "M     35\n",
            "Name: count, dtype: int64\n",
            "---------------------\n",
            "Ascites\n",
            "N    283\n",
            "Y     23\n",
            "Name: count, dtype: int64\n",
            "---------------------\n",
            "Hepatomegaly\n",
            "Y    156\n",
            "N    150\n",
            "Name: count, dtype: int64\n",
            "---------------------\n",
            "Edema\n",
            "N    258\n",
            "S     28\n",
            "Y     20\n",
            "Name: count, dtype: int64\n",
            "---------------------\n",
            "Stage\n",
            "Stage 3    118\n",
            "Stage 4    108\n",
            "Stage 2     65\n",
            "Stage 1     15\n",
            "Name: count, dtype: int64\n",
            "---------------------\n"
          ]
        }
      ],
      "source": [
        "for col in categorical_cols:\n",
        "  print(data[col].value_counts())\n",
        "  print(\"---------------------\")"
      ]
    },
    {
      "cell_type": "code",
      "execution_count": null,
      "metadata": {
        "colab": {
          "base_uri": "https://localhost:8080/"
        },
        "collapsed": true,
        "id": "QpfqhIAjajLg",
        "outputId": "e5944c37-482f-4cd4-a7e7-3bcd8be89ded"
      },
      "outputs": [
        {
          "name": "stderr",
          "output_type": "stream",
          "text": [
            "<ipython-input-30-17d1732db03e>:2: FutureWarning: Downcasting behavior in `replace` is deprecated and will be removed in a future version. To retain the old behavior, explicitly call `result.infer_objects(copy=False)`. To opt-in to the future behavior, set `pd.set_option('future.no_silent_downcasting', True)`\n",
            "  data['Drug'] = data['Drug'].replace({'D-penicillamine' : 1, 'Placebo' : 0})\n",
            "<ipython-input-30-17d1732db03e>:3: FutureWarning: Downcasting behavior in `replace` is deprecated and will be removed in a future version. To retain the old behavior, explicitly call `result.infer_objects(copy=False)`. To opt-in to the future behavior, set `pd.set_option('future.no_silent_downcasting', True)`\n",
            "  data['Gender'] = data['Gender'].replace({'F' : 1, 'M' : 0})\n",
            "<ipython-input-30-17d1732db03e>:4: FutureWarning: Downcasting behavior in `replace` is deprecated and will be removed in a future version. To retain the old behavior, explicitly call `result.infer_objects(copy=False)`. To opt-in to the future behavior, set `pd.set_option('future.no_silent_downcasting', True)`\n",
            "  data['Ascites'] = data['Ascites'].replace({'N' : 0, 'Y' : 1})\n",
            "<ipython-input-30-17d1732db03e>:5: FutureWarning: Downcasting behavior in `replace` is deprecated and will be removed in a future version. To retain the old behavior, explicitly call `result.infer_objects(copy=False)`. To opt-in to the future behavior, set `pd.set_option('future.no_silent_downcasting', True)`\n",
            "  data['Hepatomegaly'] = data['Hepatomegaly'].replace({'N' : 0, 'Y' : 1})\n"
          ]
        }
      ],
      "source": [
        "# BINARY\n",
        "data['Drug'] = data['Drug'].replace({'D-penicillamine' : 1, 'Placebo' : 0})\n",
        "data['Gender'] = data['Gender'].replace({'F' : 1, 'M' : 0})\n",
        "data['Ascites'] = data['Ascites'].replace({'N' : 0, 'Y' : 1})\n",
        "data['Hepatomegaly'] = data['Hepatomegaly'].replace({'N' : 0, 'Y' : 1})\n"
      ]
    },
    {
      "cell_type": "code",
      "execution_count": null,
      "metadata": {
        "colab": {
          "base_uri": "https://localhost:8080/"
        },
        "collapsed": true,
        "id": "wYJAaTY6cCtz",
        "outputId": "80de0c2e-d7f3-40e4-dd28-654d1d55ae8c"
      },
      "outputs": [
        {
          "name": "stderr",
          "output_type": "stream",
          "text": [
            "<ipython-input-31-a6ddc9c4658a>:2: FutureWarning: Downcasting behavior in `replace` is deprecated and will be removed in a future version. To retain the old behavior, explicitly call `result.infer_objects(copy=False)`. To opt-in to the future behavior, set `pd.set_option('future.no_silent_downcasting', True)`\n",
            "  data['Edema'] = data['Edema'].replace({'N' : 0, 'S' : 1, 'Y' : 2})\n",
            "<ipython-input-31-a6ddc9c4658a>:3: FutureWarning: Downcasting behavior in `replace` is deprecated and will be removed in a future version. To retain the old behavior, explicitly call `result.infer_objects(copy=False)`. To opt-in to the future behavior, set `pd.set_option('future.no_silent_downcasting', True)`\n",
            "  data['Stage'] = data['Stage'].replace({'Stage 1' : 1, 'Stage 2' : 2, 'Stage 3' : 3, 'Stage 4' : 4})\n"
          ]
        }
      ],
      "source": [
        "# ORDINAL\n",
        "data['Edema'] = data['Edema'].replace({'N' : 0, 'S' : 1, 'Y' : 2})\n",
        "data['Stage'] = data['Stage'].replace({'Stage 1' : 1, 'Stage 2' : 2, 'Stage 3' : 3, 'Stage 4' : 4})"
      ]
    },
    {
      "cell_type": "code",
      "execution_count": null,
      "metadata": {
        "colab": {
          "base_uri": "https://localhost:8080/",
          "height": 206
        },
        "id": "nlXIaggmceni",
        "outputId": "ae75b80e-b4ef-4f27-deda-a9db52f647be"
      },
      "outputs": [
        {
          "data": {
            "text/html": [
              "\n",
              "  <div id=\"df-aba578d1-9d9a-4eaa-b02e-c9420273ecb5\" class=\"colab-df-container\">\n",
              "    <div>\n",
              "<style scoped>\n",
              "    .dataframe tbody tr th:only-of-type {\n",
              "        vertical-align: middle;\n",
              "    }\n",
              "\n",
              "    .dataframe tbody tr th {\n",
              "        vertical-align: top;\n",
              "    }\n",
              "\n",
              "    .dataframe thead th {\n",
              "        text-align: right;\n",
              "    }\n",
              "</style>\n",
              "<table border=\"1\" class=\"dataframe\">\n",
              "  <thead>\n",
              "    <tr style=\"text-align: right;\">\n",
              "      <th></th>\n",
              "      <th>Drug</th>\n",
              "      <th>Gender</th>\n",
              "      <th>Ascites</th>\n",
              "      <th>Hepatomegaly</th>\n",
              "      <th>Edema</th>\n",
              "      <th>Bilirubin</th>\n",
              "      <th>Albumin</th>\n",
              "      <th>Copper</th>\n",
              "      <th>Alkaline Phospatase (U/L)</th>\n",
              "      <th>SGOT</th>\n",
              "      <th>Tryglicerides</th>\n",
              "      <th>Platelets</th>\n",
              "      <th>Prothrombin</th>\n",
              "      <th>Stage</th>\n",
              "      <th>Age</th>\n",
              "    </tr>\n",
              "  </thead>\n",
              "  <tbody>\n",
              "    <tr>\n",
              "      <th>0</th>\n",
              "      <td>1</td>\n",
              "      <td>1</td>\n",
              "      <td>1</td>\n",
              "      <td>1</td>\n",
              "      <td>2</td>\n",
              "      <td>14.5</td>\n",
              "      <td>2.60</td>\n",
              "      <td>156.0</td>\n",
              "      <td>1718.0</td>\n",
              "      <td>137.95</td>\n",
              "      <td>172.0</td>\n",
              "      <td>190.0</td>\n",
              "      <td>12.2</td>\n",
              "      <td>4</td>\n",
              "      <td>58</td>\n",
              "    </tr>\n",
              "    <tr>\n",
              "      <th>1</th>\n",
              "      <td>1</td>\n",
              "      <td>1</td>\n",
              "      <td>0</td>\n",
              "      <td>1</td>\n",
              "      <td>0</td>\n",
              "      <td>1.1</td>\n",
              "      <td>4.14</td>\n",
              "      <td>54.0</td>\n",
              "      <td>7394.8</td>\n",
              "      <td>113.52</td>\n",
              "      <td>88.0</td>\n",
              "      <td>221.0</td>\n",
              "      <td>10.6</td>\n",
              "      <td>3</td>\n",
              "      <td>56</td>\n",
              "    </tr>\n",
              "    <tr>\n",
              "      <th>2</th>\n",
              "      <td>1</td>\n",
              "      <td>0</td>\n",
              "      <td>0</td>\n",
              "      <td>0</td>\n",
              "      <td>1</td>\n",
              "      <td>1.4</td>\n",
              "      <td>3.48</td>\n",
              "      <td>210.0</td>\n",
              "      <td>516.0</td>\n",
              "      <td>96.10</td>\n",
              "      <td>55.0</td>\n",
              "      <td>151.0</td>\n",
              "      <td>12.0</td>\n",
              "      <td>4</td>\n",
              "      <td>70</td>\n",
              "    </tr>\n",
              "    <tr>\n",
              "      <th>3</th>\n",
              "      <td>1</td>\n",
              "      <td>1</td>\n",
              "      <td>0</td>\n",
              "      <td>1</td>\n",
              "      <td>1</td>\n",
              "      <td>1.8</td>\n",
              "      <td>2.54</td>\n",
              "      <td>64.0</td>\n",
              "      <td>6121.8</td>\n",
              "      <td>60.63</td>\n",
              "      <td>92.0</td>\n",
              "      <td>183.0</td>\n",
              "      <td>10.3</td>\n",
              "      <td>4</td>\n",
              "      <td>54</td>\n",
              "    </tr>\n",
              "    <tr>\n",
              "      <th>4</th>\n",
              "      <td>0</td>\n",
              "      <td>1</td>\n",
              "      <td>0</td>\n",
              "      <td>1</td>\n",
              "      <td>0</td>\n",
              "      <td>3.4</td>\n",
              "      <td>3.53</td>\n",
              "      <td>143.0</td>\n",
              "      <td>671.0</td>\n",
              "      <td>113.15</td>\n",
              "      <td>72.0</td>\n",
              "      <td>136.0</td>\n",
              "      <td>10.9</td>\n",
              "      <td>3</td>\n",
              "      <td>38</td>\n",
              "    </tr>\n",
              "  </tbody>\n",
              "</table>\n",
              "</div>\n",
              "    <div class=\"colab-df-buttons\">\n",
              "      \n",
              "  <div class=\"colab-df-container\">\n",
              "    <button class=\"colab-df-convert\" onclick=\"convertToInteractive('df-aba578d1-9d9a-4eaa-b02e-c9420273ecb5')\"\n",
              "            title=\"Convert this dataframe to an interactive table.\"\n",
              "            style=\"display:none;\">\n",
              "      \n",
              "  <svg xmlns=\"http://www.w3.org/2000/svg\" height=\"24px\" viewBox=\"0 -960 960 960\">\n",
              "    <path d=\"M120-120v-720h720v720H120Zm60-500h600v-160H180v160Zm220 220h160v-160H400v160Zm0 220h160v-160H400v160ZM180-400h160v-160H180v160Zm440 0h160v-160H620v160ZM180-180h160v-160H180v160Zm440 0h160v-160H620v160Z\"/>\n",
              "  </svg>\n",
              "    </button>\n",
              "    \n",
              "  <style>\n",
              "    .colab-df-container {\n",
              "      display:flex;\n",
              "      gap: 12px;\n",
              "    }\n",
              "\n",
              "    .colab-df-convert {\n",
              "      background-color: #E8F0FE;\n",
              "      border: none;\n",
              "      border-radius: 50%;\n",
              "      cursor: pointer;\n",
              "      display: none;\n",
              "      fill: #1967D2;\n",
              "      height: 32px;\n",
              "      padding: 0 0 0 0;\n",
              "      width: 32px;\n",
              "    }\n",
              "\n",
              "    .colab-df-convert:hover {\n",
              "      background-color: #E2EBFA;\n",
              "      box-shadow: 0px 1px 2px rgba(60, 64, 67, 0.3), 0px 1px 3px 1px rgba(60, 64, 67, 0.15);\n",
              "      fill: #174EA6;\n",
              "    }\n",
              "\n",
              "    .colab-df-buttons div {\n",
              "      margin-bottom: 4px;\n",
              "    }\n",
              "\n",
              "    [theme=dark] .colab-df-convert {\n",
              "      background-color: #3B4455;\n",
              "      fill: #D2E3FC;\n",
              "    }\n",
              "\n",
              "    [theme=dark] .colab-df-convert:hover {\n",
              "      background-color: #434B5C;\n",
              "      box-shadow: 0px 1px 3px 1px rgba(0, 0, 0, 0.15);\n",
              "      filter: drop-shadow(0px 1px 2px rgba(0, 0, 0, 0.3));\n",
              "      fill: #FFFFFF;\n",
              "    }\n",
              "  </style>\n",
              "\n",
              "    <script>\n",
              "      const buttonEl =\n",
              "        document.querySelector('#df-aba578d1-9d9a-4eaa-b02e-c9420273ecb5 button.colab-df-convert');\n",
              "      buttonEl.style.display =\n",
              "        google.colab.kernel.accessAllowed ? 'block' : 'none';\n",
              "\n",
              "      async function convertToInteractive(key) {\n",
              "        const element = document.querySelector('#df-aba578d1-9d9a-4eaa-b02e-c9420273ecb5');\n",
              "        const dataTable =\n",
              "          await google.colab.kernel.invokeFunction('convertToInteractive',\n",
              "                                                    [key], {});\n",
              "        if (!dataTable) return;\n",
              "\n",
              "        const docLinkHtml = 'Like what you see? Visit the ' +\n",
              "          '<a target=\"_blank\" href=https://colab.research.google.com/notebooks/data_table.ipynb>data table notebook</a>'\n",
              "          + ' to learn more about interactive tables.';\n",
              "        element.innerHTML = '';\n",
              "        dataTable['output_type'] = 'display_data';\n",
              "        await google.colab.output.renderOutput(dataTable, element);\n",
              "        const docLink = document.createElement('div');\n",
              "        docLink.innerHTML = docLinkHtml;\n",
              "        element.appendChild(docLink);\n",
              "      }\n",
              "    </script>\n",
              "  </div>\n",
              "  \n",
              "    </div>\n",
              "  </div>\n",
              "  "
            ],
            "text/plain": [
              "   Drug  Gender  Ascites  Hepatomegaly  Edema  Bilirubin  Albumin  Copper  \\\n",
              "0     1       1        1             1      2       14.5     2.60   156.0   \n",
              "1     1       1        0             1      0        1.1     4.14    54.0   \n",
              "2     1       0        0             0      1        1.4     3.48   210.0   \n",
              "3     1       1        0             1      1        1.8     2.54    64.0   \n",
              "4     0       1        0             1      0        3.4     3.53   143.0   \n",
              "\n",
              "   Alkaline Phospatase (U/L)    SGOT  Tryglicerides  Platelets  Prothrombin  \\\n",
              "0                     1718.0  137.95          172.0      190.0         12.2   \n",
              "1                     7394.8  113.52           88.0      221.0         10.6   \n",
              "2                      516.0   96.10           55.0      151.0         12.0   \n",
              "3                     6121.8   60.63           92.0      183.0         10.3   \n",
              "4                      671.0  113.15           72.0      136.0         10.9   \n",
              "\n",
              "   Stage  Age  \n",
              "0      4   58  \n",
              "1      3   56  \n",
              "2      4   70  \n",
              "3      4   54  \n",
              "4      3   38  "
            ]
          },
          "execution_count": 32,
          "metadata": {},
          "output_type": "execute_result"
        }
      ],
      "source": [
        "data.head()"
      ]
    },
    {
      "cell_type": "code",
      "execution_count": null,
      "metadata": {
        "colab": {
          "base_uri": "https://localhost:8080/"
        },
        "id": "jq0XxkxhchX3",
        "outputId": "d076cf04-ee41-4920-b61b-90a07cda65a5"
      },
      "outputs": [
        {
          "name": "stdout",
          "output_type": "stream",
          "text": [
            "<class 'pandas.core.frame.DataFrame'>\n",
            "Index: 306 entries, 0 to 311\n",
            "Data columns (total 15 columns):\n",
            " #   Column                     Non-Null Count  Dtype  \n",
            "---  ------                     --------------  -----  \n",
            " 0   Drug                       306 non-null    int64  \n",
            " 1   Gender                     306 non-null    int64  \n",
            " 2   Ascites                    306 non-null    int64  \n",
            " 3   Hepatomegaly               306 non-null    int64  \n",
            " 4   Edema                      306 non-null    int64  \n",
            " 5   Bilirubin                  306 non-null    float64\n",
            " 6   Albumin                    306 non-null    float64\n",
            " 7   Copper                     306 non-null    float64\n",
            " 8   Alkaline Phospatase (U/L)  306 non-null    float64\n",
            " 9   SGOT                       306 non-null    float64\n",
            " 10  Tryglicerides              306 non-null    float64\n",
            " 11  Platelets                  306 non-null    float64\n",
            " 12  Prothrombin                306 non-null    float64\n",
            " 13  Stage                      306 non-null    int64  \n",
            " 14  Age                        306 non-null    int64  \n",
            "dtypes: float64(8), int64(7)\n",
            "memory usage: 38.2 KB\n"
          ]
        }
      ],
      "source": [
        "data.info()"
      ]
    },
    {
      "cell_type": "markdown",
      "metadata": {
        "id": "RictwzCQczbW"
      },
      "source": [
        "## Data Splitting"
      ]
    },
    {
      "cell_type": "code",
      "execution_count": null,
      "metadata": {
        "id": "anIZHq-nc1E0"
      },
      "outputs": [],
      "source": [
        "from sklearn.model_selection import train_test_split"
      ]
    },
    {
      "cell_type": "code",
      "execution_count": null,
      "metadata": {
        "colab": {
          "base_uri": "https://localhost:8080/"
        },
        "id": "M6J4FNeic7Bp",
        "outputId": "3e1db710-4cf9-4a86-e55b-a5bf6677aeba"
      },
      "outputs": [
        {
          "name": "stdout",
          "output_type": "stream",
          "text": [
            "X_train : (244, 14)\n",
            "X_test : (62, 14)\n",
            "y_train : (244,)\n",
            "y_test : (62,)\n"
          ]
        }
      ],
      "source": [
        "X = data.drop('Stage', axis=1)\n",
        "y = data['Stage']\n",
        "\n",
        "X_train, X_test, y_train, y_test = train_test_split(X, y, test_size = 0.2, random_state = 42)\n",
        "\n",
        "print(f\"X_train : {X_train.shape}\")\n",
        "print(f\"X_test : {X_test.shape}\")\n",
        "print(f\"y_train : {y_train.shape}\")\n",
        "print(f\"y_test : {y_test.shape}\")"
      ]
    },
    {
      "cell_type": "markdown",
      "metadata": {
        "id": "ORQFs4cidnpF"
      },
      "source": [
        "## Scaling\n",
        "Because Random Forest and XGBoost are based on decision trees, scaling does not significantly impact their performance."
      ]
    },
    {
      "cell_type": "markdown",
      "metadata": {
        "id": "hylj5PpsfdCW"
      },
      "source": [
        "## Random Forest"
      ]
    },
    {
      "cell_type": "code",
      "execution_count": null,
      "metadata": {
        "id": "yWybg44Mfci7"
      },
      "outputs": [],
      "source": [
        "from sklearn.ensemble import RandomForestClassifier\n",
        "from xgboost import XGBClassifier\n",
        "from sklearn.metrics import classification_report, confusion_matrix"
      ]
    },
    {
      "cell_type": "code",
      "execution_count": null,
      "metadata": {
        "id": "JlL96QEGf6qs"
      },
      "outputs": [],
      "source": [
        "rf_model = RandomForestClassifier(random_state = 0)\n",
        "\n",
        "rf_model = rf_model.fit(X_train, y_train)\n",
        "rf_y_pred = rf_model.predict(X_test)"
      ]
    },
    {
      "cell_type": "code",
      "execution_count": null,
      "metadata": {
        "colab": {
          "base_uri": "https://localhost:8080/"
        },
        "id": "5SNTVWRigaQ1",
        "outputId": "d471ed3b-4e2d-4d34-d0d4-7a3b1061f44a"
      },
      "outputs": [
        {
          "name": "stdout",
          "output_type": "stream",
          "text": [
            "Confusion Matrix:\n",
            " [[ 0  1  1  0]\n",
            " [ 0  4  5  5]\n",
            " [ 0  2 14 11]\n",
            " [ 0  0  3 16]]\n",
            "Classification Report:\n",
            "              precision    recall  f1-score   support\n",
            "\n",
            "           1       0.00      0.00      0.00         2\n",
            "           2       0.57      0.29      0.38        14\n",
            "           3       0.61      0.52      0.56        27\n",
            "           4       0.50      0.84      0.63        19\n",
            "\n",
            "    accuracy                           0.55        62\n",
            "   macro avg       0.42      0.41      0.39        62\n",
            "weighted avg       0.55      0.55      0.52        62\n",
            "\n"
          ]
        },
        {
          "name": "stderr",
          "output_type": "stream",
          "text": [
            "/usr/local/lib/python3.10/dist-packages/sklearn/metrics/_classification.py:1469: UndefinedMetricWarning: Precision and F-score are ill-defined and being set to 0.0 in labels with no predicted samples. Use `zero_division` parameter to control this behavior.\n",
            "  _warn_prf(average, modifier, msg_start, len(result))\n",
            "/usr/local/lib/python3.10/dist-packages/sklearn/metrics/_classification.py:1469: UndefinedMetricWarning: Precision and F-score are ill-defined and being set to 0.0 in labels with no predicted samples. Use `zero_division` parameter to control this behavior.\n",
            "  _warn_prf(average, modifier, msg_start, len(result))\n",
            "/usr/local/lib/python3.10/dist-packages/sklearn/metrics/_classification.py:1469: UndefinedMetricWarning: Precision and F-score are ill-defined and being set to 0.0 in labels with no predicted samples. Use `zero_division` parameter to control this behavior.\n",
            "  _warn_prf(average, modifier, msg_start, len(result))\n"
          ]
        }
      ],
      "source": [
        "print(\"Confusion Matrix:\\n\", confusion_matrix(y_test, rf_y_pred))\n",
        "print(f'Classification Report:\\n{classification_report(y_test, rf_y_pred)}')"
      ]
    },
    {
      "cell_type": "markdown",
      "metadata": {
        "id": "khodYUkeeG6O"
      },
      "source": [
        "The focus point is to reduce late diagnoses (e.g., predicting Stage 2 when the actual stage is Stage 3), we should prioritize recall for critical stages (Stage 3 and Stage 4)"
      ]
    },
    {
      "cell_type": "markdown",
      "metadata": {
        "id": "abGxXw58j3EY"
      },
      "source": [
        "### RF Fine Tuning"
      ]
    },
    {
      "cell_type": "code",
      "execution_count": null,
      "metadata": {
        "colab": {
          "base_uri": "https://localhost:8080/"
        },
        "id": "Ws7S5hQTj5Qi",
        "outputId": "33b1e3fb-417f-4073-abf8-96e07e9922ab"
      },
      "outputs": [
        {
          "name": "stdout",
          "output_type": "stream",
          "text": [
            "Fitting 3 folds for each of 256 candidates, totalling 768 fits\n"
          ]
        }
      ],
      "source": [
        "from sklearn.model_selection import GridSearchCV\n",
        "\n",
        "param = {\n",
        "    'n_estimators' : [100, 200, 300, 500]\n",
        "    , 'max_depth' : [5, 10, 20, 30]\n",
        "    , 'min_samples_split' : [2, 5, 10, 20]\n",
        "    , 'min_samples_leaf' : [1, 2, 4, 8]\n",
        "}\n",
        "\n",
        "rf = RandomForestClassifier(random_state = 0, class_weight = 'balanced')\n",
        "grid = GridSearchCV(estimator = rf, param_grid = param, cv = 3, n_jobs = -1, verbose = 2)\n",
        "grid.fit(X_train, y_train)\n",
        "\n",
        "best_model = grid.best_estimator_\n",
        "rf_pred = best_model.predict(X_test)"
      ]
    },
    {
      "cell_type": "code",
      "execution_count": null,
      "metadata": {
        "colab": {
          "base_uri": "https://localhost:8080/"
        },
        "id": "y4HZY9NAkObl",
        "outputId": "a6ecd703-9321-43f1-e01a-eabfc424c47b"
      },
      "outputs": [
        {
          "name": "stdout",
          "output_type": "stream",
          "text": [
            "Best Parameter: {'max_depth': 20, 'min_samples_leaf': 1, 'min_samples_split': 2, 'n_estimators': 200}\n",
            "[[ 0  1  1  0]\n",
            " [ 0  4  6  4]\n",
            " [ 0  2 17  8]\n",
            " [ 0  0  3 16]]\n",
            "              precision    recall  f1-score   support\n",
            "\n",
            "           0       0.00      0.00      0.00         2\n",
            "           1       0.57      0.29      0.38        14\n",
            "           2       0.63      0.63      0.63        27\n",
            "           3       0.57      0.84      0.68        19\n",
            "\n",
            "    accuracy                           0.60        62\n",
            "   macro avg       0.44      0.44      0.42        62\n",
            "weighted avg       0.58      0.60      0.57        62\n",
            "\n"
          ]
        },
        {
          "name": "stderr",
          "output_type": "stream",
          "text": [
            "/usr/local/lib/python3.10/dist-packages/sklearn/metrics/_classification.py:1469: UndefinedMetricWarning: Precision and F-score are ill-defined and being set to 0.0 in labels with no predicted samples. Use `zero_division` parameter to control this behavior.\n",
            "  _warn_prf(average, modifier, msg_start, len(result))\n",
            "/usr/local/lib/python3.10/dist-packages/sklearn/metrics/_classification.py:1469: UndefinedMetricWarning: Precision and F-score are ill-defined and being set to 0.0 in labels with no predicted samples. Use `zero_division` parameter to control this behavior.\n",
            "  _warn_prf(average, modifier, msg_start, len(result))\n",
            "/usr/local/lib/python3.10/dist-packages/sklearn/metrics/_classification.py:1469: UndefinedMetricWarning: Precision and F-score are ill-defined and being set to 0.0 in labels with no predicted samples. Use `zero_division` parameter to control this behavior.\n",
            "  _warn_prf(average, modifier, msg_start, len(result))\n"
          ]
        }
      ],
      "source": [
        "# Best Parameter and Results for RF\n",
        "\n",
        "print(\"Best Parameter:\", grid.best_params_)\n",
        "print(confusion_matrix(y_test, rf_pred))\n",
        "print(classification_report(y_test, rf_pred))"
      ]
    },
    {
      "cell_type": "markdown",
      "metadata": {
        "id": "-w2ArJORmbAx"
      },
      "source": [
        "Model after fine tuning performs better in terms of consistency and fewer misclassifications in Stage 3. Although both models misclassify Stage 3 to some extent, Model after fine tuning offers more reliable predictions, which is especially important when accurate diagnosis is crucial, such as avoiding misdiagnosis of Stage 3 as Stage 4.\n",
        "\n",
        "Additionally, I also experimented with stratified k-fold and SMOTE (Synthetic Minority Over-sampling Technique) to address class imbalances, but the results still indicate that this model (after fine-tuning) performs better.\n",
        "\n",
        "Therefore, based on the confusion matrix comparison, the fine-tuned model remains the preferred choice."
      ]
    },
    {
      "cell_type": "markdown",
      "metadata": {
        "id": "l5dkk0d81rC3"
      },
      "source": [
        "### SMOTE"
      ]
    },
    {
      "cell_type": "code",
      "execution_count": null,
      "metadata": {
        "colab": {
          "base_uri": "https://localhost:8080/"
        },
        "id": "nlO1fC6N6G1-",
        "outputId": "2ef7d8f5-b763-42a1-b679-b2070c3d80c2"
      },
      "outputs": [
        {
          "name": "stdout",
          "output_type": "stream",
          "text": [
            "Fitting 3 folds for each of 81 candidates, totalling 243 fits\n",
            "Best Parameter: {'max_depth': 20, 'min_samples_leaf': 1, 'min_samples_split': 2, 'n_estimators': 500}\n",
            "[[ 0  1  1  0]\n",
            " [ 2  6  1  5]\n",
            " [ 1  6  9 11]\n",
            " [ 0  1  2 16]]\n",
            "              precision    recall  f1-score   support\n",
            "\n",
            "           0       0.00      0.00      0.00         2\n",
            "           1       0.43      0.43      0.43        14\n",
            "           2       0.69      0.33      0.45        27\n",
            "           3       0.50      0.84      0.63        19\n",
            "\n",
            "    accuracy                           0.50        62\n",
            "   macro avg       0.41      0.40      0.38        62\n",
            "weighted avg       0.55      0.50      0.49        62\n",
            "\n"
          ]
        }
      ],
      "source": [
        "from sklearn.model_selection import GridSearchCV\n",
        "from imblearn.over_sampling import SMOTE\n",
        "\n",
        "smote = SMOTE(random_state=0)\n",
        "X_train_resampled, y_train_resampled = smote.fit_resample(X_train, y_train)\n",
        "\n",
        "param = {\n",
        "    'n_estimators': [100, 200, 500],\n",
        "    'max_depth': [10, 20, 30],\n",
        "    'min_samples_split': [2, 5, 10],\n",
        "    'min_samples_leaf': [1, 2, 4]\n",
        "}\n",
        "\n",
        "rf = RandomForestClassifier(random_state = 0)\n",
        "grid = GridSearchCV(estimator = rf, param_grid = param, cv = 3, n_jobs = -1, verbose = 1)\n",
        "grid.fit(X_train_resampled, y_train_resampled)\n",
        "\n",
        "best_rf_model = grid.best_estimator_\n",
        "rf_best_pred = best_rf_model.predict(X_test)\n",
        "\n",
        "# Best Parameter and Results for RF using SMOTE\n",
        "\n",
        "print(\"Best Parameter:\", grid.best_params_)\n",
        "print(confusion_matrix(y_test, rf_best_pred))\n",
        "print(classification_report(y_test, rf_best_pred))"
      ]
    },
    {
      "cell_type": "markdown",
      "metadata": {
        "id": "SGUmYv_Vn0hM"
      },
      "source": [
        "## XGBoost"
      ]
    },
    {
      "cell_type": "code",
      "execution_count": null,
      "metadata": {
        "id": "ECp_H6-btlq4"
      },
      "outputs": [],
      "source": [
        "from xgboost import XGBClassifier\n",
        "import xgboost as xgb"
      ]
    },
    {
      "cell_type": "code",
      "execution_count": null,
      "metadata": {
        "id": "MJd6weJ_n39K"
      },
      "outputs": [],
      "source": [
        "xgb_model = XGBClassifier(random_state = 0)\n",
        "\n",
        "# Invalid classes inferred from unique values of `y`.  Expected: [0 1 2 3], got [1 2 3 4]\n",
        "y_test = y_test - 1\n",
        "y_train = y_train - 1\n",
        "\n",
        "xgb_model = xgb_model.fit(X_train, y_train)\n",
        "xgb_y_pred = xgb_model.predict(X_test)"
      ]
    },
    {
      "cell_type": "code",
      "execution_count": null,
      "metadata": {
        "colab": {
          "base_uri": "https://localhost:8080/"
        },
        "id": "ucCC6bDZq-3N",
        "outputId": "9856edd5-1988-436c-d8fb-6c78c5a334b7"
      },
      "outputs": [
        {
          "name": "stdout",
          "output_type": "stream",
          "text": [
            "Confusion Matrix:\n",
            " [[ 0  0  1  1]\n",
            " [ 1  3  3  7]\n",
            " [ 2  3 15  7]\n",
            " [ 0  0  2 17]]\n",
            "Classification Report:\n",
            "              precision    recall  f1-score   support\n",
            "\n",
            "           0       0.00      0.00      0.00         2\n",
            "           1       0.50      0.21      0.30        14\n",
            "           2       0.71      0.56      0.63        27\n",
            "           3       0.53      0.89      0.67        19\n",
            "\n",
            "    accuracy                           0.56        62\n",
            "   macro avg       0.44      0.42      0.40        62\n",
            "weighted avg       0.59      0.56      0.54        62\n",
            "\n"
          ]
        }
      ],
      "source": [
        "print(\"Confusion Matrix:\\n\", confusion_matrix(y_test, xgb_y_pred))\n",
        "print(f'Classification Report:\\n{classification_report(y_test, xgb_y_pred)}')"
      ]
    },
    {
      "cell_type": "markdown",
      "metadata": {
        "id": "m7EDEQDRrfVp"
      },
      "source": [
        "### XGBoost Fine Tuning"
      ]
    },
    {
      "cell_type": "code",
      "execution_count": null,
      "metadata": {
        "colab": {
          "base_uri": "https://localhost:8080/"
        },
        "id": "zdvCP5fsrb8r",
        "outputId": "142af19d-2c51-4c16-f333-c222f93eff3a"
      },
      "outputs": [
        {
          "name": "stdout",
          "output_type": "stream",
          "text": [
            "Fitting 5 folds for each of 81 candidates, totalling 405 fits\n"
          ]
        },
        {
          "name": "stderr",
          "output_type": "stream",
          "text": [
            "/usr/local/lib/python3.10/dist-packages/xgboost/core.py:158: UserWarning: [13:37:41] WARNING: /workspace/src/learner.cc:740: \n",
            "Parameters: { \"use_label_encoder\" } are not used.\n",
            "\n",
            "  warnings.warn(smsg, UserWarning)\n"
          ]
        }
      ],
      "source": [
        "param_xgb = {\n",
        "    'n_estimators': [50, 100, 200],\n",
        "    'max_depth': [3, 5, 7],\n",
        "    'subsample': [0.6, 0.8, 1.0],\n",
        "    'colsample_bytree': [0.6, 0.8, 1.0]\n",
        "}\n",
        "\n",
        "xgb_model = XGBClassifier(random_state = 0, use_label_encoder=False, eval_metric='logloss')\n",
        "grid_xgb = GridSearchCV(estimator = xgb_model, param_grid = param_xgb, cv=5, verbose=2, n_jobs=-1)\n",
        "\n",
        "grid_xgb.fit(X_train, y_train)\n",
        "\n",
        "best_xgb_model = grid_xgb.best_estimator_\n",
        "xgb_pred = best_xgb_model.predict(X_test)"
      ]
    },
    {
      "cell_type": "code",
      "execution_count": null,
      "metadata": {
        "colab": {
          "base_uri": "https://localhost:8080/"
        },
        "id": "lrvKGGKqtEUZ",
        "outputId": "6b309d38-a8ff-4b71-9a06-d90660aea37f"
      },
      "outputs": [
        {
          "name": "stdout",
          "output_type": "stream",
          "text": [
            "Best Parameter: {'colsample_bytree': 1.0, 'max_depth': 5, 'n_estimators': 100, 'subsample': 0.8}\n",
            "[[ 0  0  1  1]\n",
            " [ 1  5  2  6]\n",
            " [ 0  2 17  8]\n",
            " [ 0  0  2 17]]\n",
            "              precision    recall  f1-score   support\n",
            "\n",
            "     Stage 1       0.00      0.00      0.00         2\n",
            "     Stage 2       0.71      0.36      0.48        14\n",
            "     Stage 3       0.77      0.63      0.69        27\n",
            "     Stage 4       0.53      0.89      0.67        19\n",
            "\n",
            "    accuracy                           0.63        62\n",
            "   macro avg       0.50      0.47      0.46        62\n",
            "weighted avg       0.66      0.63      0.61        62\n",
            "\n"
          ]
        }
      ],
      "source": [
        "# Best Parameter and Results for XGBoost\n",
        "labels = ['Stage 1', 'Stage 2', 'Stage 3', 'Stage 4']\n",
        "\n",
        "print(\"Best Parameter:\", grid_xgb.best_params_)\n",
        "print(confusion_matrix(y_test, xgb_pred))\n",
        "print(classification_report(y_test, xgb_pred, target_names = labels))"
      ]
    },
    {
      "cell_type": "markdown",
      "metadata": {
        "id": "IkBgOeTM-Dnq"
      },
      "source": [
        "## Comparison between RF (a.k.a Model A) and XGBoost (a.k.a Model B) after fine tuning:\n",
        "Accuracy:\n",
        "- Model A: 0.60\n",
        "- Model B: 0.63  \n",
        "\n",
        "Precision:\n",
        "- Model A: Average precision is 0.44 (macro avg) and 0.58 (weighted avg).\n",
        "- Model B: Average precision is 0.50 (macro avg) and 0.66 (weighted avg).\n",
        "\n",
        "Recall:\n",
        "- Model A: Average recall is 0.44 (macro avg) and 0.60 (weighted avg).\n",
        "- Model B: Average recall is 0.47 (macro avg) and 0.63 (weighted avg).  \n",
        "\n",
        "F1-Score:\n",
        "- Model A: Average f1-score is 0.42 (macro avg) and 0.57 (weighted avg).\n",
        "- Model B: Average f1-score is 0.46 (macro avg) and 0.61 (weighted avg).\n",
        "\n",
        "Model B shows higher precision, recall, and f1-score across the average and weighted scores, making it a better choice overall, particularly in terms of correctly identifying instances from Stage 2, Stage 3, and Stage 4."
      ]
    },
    {
      "cell_type": "markdown",
      "metadata": {
        "id": "_Rz528HHGfEz"
      },
      "source": [
        "# C. Evaluation results based on at least 3 evaluation metrics\n",
        "- **Precision**: Model A has a lower average precision compared to Model B, especially in Stage 2 and Stage 3. While Stage 1 has zero precision for both models, the remaining stages show much higher precision in Model B. This indicates that Model B is more accurate in classifying patients correctly for most stages.\n",
        "\n",
        "- **Recall**: Model B also performs better in terms of recall, especially in Stage 4, where it has a recall of 0.89. This means that Model B is better at correctly identifying patients for Stage 4.\n",
        "\n",
        "- **F1 Score**: Model B achieves higher F1-Score across all stages except Stage 4, where the scores are very close. Overall, Model B provides a better balance between precision and recall, resulting in higher F1-Score. This metric combines precision and recall, so Model B performs better in balancing the two.\n",
        "\n",
        "- **Confusion Matrix** :  both misdiagnose stage 1, there is minor improvement in stage 2 and 4 in Model B (XGBoost)\n"
      ]
    },
    {
      "cell_type": "markdown",
      "metadata": {
        "id": "JWp6sx9dKAwq"
      },
      "source": [
        "# D. Which features can be considered important"
      ]
    },
    {
      "cell_type": "code",
      "execution_count": null,
      "metadata": {
        "colab": {
          "base_uri": "https://localhost:8080/",
          "height": 472
        },
        "id": "E8oU9VLaLnVh",
        "outputId": "e8eb2eda-2c2e-4e18-8d72-9d0780314f5c"
      },
      "outputs": [
        {
          "data": {
            "image/png": "[encoded data removed]",
            "text/plain": [
              "<Figure size 640x480 with 1 Axes>"
            ]
          },
          "metadata": {},
          "output_type": "display_data"
        }
      ],
      "source": [
        "from xgboost import plot_importance\n",
        "\n",
        "plot_importance(best_xgb_model, importance_type='weight')\n",
        "plt.title(\"Feature Importance (Weight)\")\n",
        "plt.show()"
      ]
    },
    {
      "cell_type": "markdown",
      "metadata": {
        "id": "hqXtcyqHNI1t"
      },
      "source": [
        "Weight represents how often a feature is used in splitting nodes across trees, so a higher value means that the feature was used more often to split the data, making it more important.\n",
        "\n",
        "There is a significant drop from 'Bilirubin' (227.0) to 'Hepatomegaly' (61.0), and The next declines is from 'Hepatomegaly' to 'Drug' (27.0). This indicates that there are 9 important features:\n",
        "- Alkaline Phospatase\n",
        "- Tryglicerides\n",
        "- Platelets\n",
        "- SGOT\n",
        "- Albumin\n",
        "- Copper\n",
        "- Age\n",
        "- Prothrombin\n",
        "- Bilirubin\n",
        "\n",
        "In medical terms, these features collectively reflect liver function, metabolic processes, and the body’s ability to regulate toxins, nutrients, and clotting.\n"
      ]
    },
    {
      "cell_type": "markdown",
      "metadata": {
        "id": "9AdOi4R_2Z3Z"
      },
      "source": [
        "## Final Conclusion\n",
        "Although there is improvement by using XGBoost, it's not the final solution. The model still has room for further enhancement. A few factors that can be utilized to improve the model include:\n",
        "- Larger dataset to learn more diverse patterns\n",
        "- Handling Class Imbalance\n",
        "- Ensemble with Other Models\n",
        "- Tuning hyperparameters"
      ]
    }
  ],
  "metadata": {
    "colab": {
      "collapsed_sections": [
        "l5dkk0d81rC3"
      ],
      "provenance": [],
      "toc_visible": true
    },
    "kernelspec": {
      "display_name": "Python 3",
      "name": "python3"
    },
    "language_info": {
      "name": "python"
    }
  },
  "nbformat": 4,
  "nbformat_minor": 0
}
